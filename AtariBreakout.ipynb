{
 "cells": [
  {
   "cell_type": "markdown",
   "metadata": {},
   "source": [
    "# Unity ML-Agents Toolkit\n",
    "## Environment Basics\n",
    "This notebook contains a walkthrough of the basic functions of the Python API for the Unity ML-Agents toolkit. For instructions on building a Unity environment, see [here](https://github.com/Unity-Technologies/ml-agents/blob/master/docs/Getting-Started-with-Balance-Ball.md)."
   ]
  },
  {
   "cell_type": "code",
   "execution_count": 1,
   "metadata": {},
   "outputs": [
    {
     "name": "stdout",
     "output_type": "stream",
     "text": [
      "\u001b[33mYou are using pip version 18.1, however version 19.0.3 is available.\n",
      "You should consider upgrading via the 'pip install --upgrade pip' command.\u001b[0m\n",
      "\u001b[31mmlagents 0.7.0 has requirement tensorflow<1.8,>=1.7, but you'll have tensorflow 2.0.0a0 which is incompatible.\u001b[0m\n",
      "\u001b[33mYou are using pip version 18.1, however version 19.0.3 is available.\n",
      "You should consider upgrading via the 'pip install --upgrade pip' command.\u001b[0m\n"
     ]
    }
   ],
   "source": [
    "!pip3 install -q ./ml-agents/ml-agents\n",
    "!pip3 install -q tensorflow==2.0.0-alpha0"
   ]
  },
  {
   "cell_type": "markdown",
   "metadata": {},
   "source": [
    "### 1. Import libraries\n",
    "\n",
    "Import the libraries that are needed for loading the environment. The following loads the necessary dependencies and checks the Python version (at runtime). ML-Agents Toolkit (v0.3 onwards) requires Python 3."
   ]
  },
  {
   "cell_type": "code",
   "execution_count": 4,
   "metadata": {},
   "outputs": [],
   "source": []
  },
  {
   "cell_type": "markdown",
   "metadata": {},
   "source": [
    "### 3. Start the environment\n",
    "`UnityEnvironment` launches and begins communication with the environment when instantiated.\n",
    "\n",
    "Environments contain _brains_ which are responsible for deciding the actions of their associated _agents_. Here we check for the first brain available, and set it as the default brain we will be controlling from Python."
   ]
  },
  {
   "cell_type": "code",
   "execution_count": 25,
   "metadata": {},
   "outputs": [],
   "source": [
    "import os\n",
    "import sys\n",
    "import numpy as np\n",
    "from mlagents.envs import UnityEnvironment\n",
    "\n",
    "env_name = \"./env/mac/Breakout\" \n",
    "env = UnityEnvironment(file_name=env_name)"
   ]
  },
  {
   "cell_type": "markdown",
   "metadata": {},
   "source": [
    "### 4. Examine the observation and state spaces\n",
    "We can reset the environment to be provided with an initial set of observations and states for all the agents within the environment. In ML-Agents, _states_ refer to a vector of variables corresponding to relevant aspects of the environment for an agent. Likewise, _observations_ refer to a set of relevant pixel-wise visuals for an agent."
   ]
  },
  {
   "cell_type": "code",
   "execution_count": 13,
   "metadata": {},
   "outputs": [
    {
     "name": "stdout",
     "output_type": "stream",
     "text": [
      "Number of agents: 1\n",
      "Number of actions: 3\n",
      "States look like: [ 0.          0.         -0.3283889   5.99100637  0.          0.\n",
      "  1.          1.          1.          1.          1.          1.\n",
      "  1.          1.          1.          1.          1.          1.\n",
      "  1.          1.          1.          1.          1.          1.\n",
      "  1.          1.          1.          1.          1.          1.\n",
      "  1.          1.          1.          1.          1.          1.\n",
      "  1.          1.          1.          1.          1.          1.\n",
      "  1.          1.          1.          1.          1.          1.\n",
      "  1.          1.          1.          1.          1.          1.        ]\n",
      "States have length: 54\n"
     ]
    }
   ],
   "source": [
    "# Set the default brain to work with\n",
    "default_brain = env.brain_names[0]\n",
    "\n",
    "# Reset the environment\n",
    "env_info = env.reset(train_mode=True)[default_brain]\n",
    "state = env_info.vector_observations[0]\n",
    "state_size = len(state)\n",
    "\n",
    "brain = env.brains[default_brain]\n",
    "# action_size = brain.vector_action_space_size[0]\n",
    "action_size = int(brain.vector_action_space_size[0])\n",
    "\n",
    "print('Number of agents:', len(env_info.agents))\n",
    "print('Number of actions:', action_size)\n",
    "print('States look like:', state)\n",
    "print('States have length:', state_size)"
   ]
  },
  {
   "cell_type": "markdown",
   "metadata": {},
   "source": [
    "### 5. Take random actions in the environment\n",
    "Once we restart an environment, we can step the environment forward and provide actions to all of the agents within the environment. Here we simply choose random actions based on the `action_space_type` of the default brain. \n",
    "\n",
    "Once this cell is executed, 10 messages will be printed that detail how much reward will be accumulated for the next 10 episodes. The Unity environment will then pause, waiting for further signals telling it what to do next. Thus, not seeing any animation is expected when running this cell."
   ]
  },
  {
   "cell_type": "code",
   "execution_count": 15,
   "metadata": {},
   "outputs": [],
   "source": [
    "def trial(runs):\n",
    "    for episode in range(runs):\n",
    "        env_info = env.reset(train_mode=False)[default_brain]\n",
    "        done = False\n",
    "        episode_rewards = 0\n",
    "        while not done:\n",
    "            action_size = brain.vector_action_space_size\n",
    "            if brain.vector_action_space_type == 'continuous':\n",
    "                action = np.random.randn(len(env_info.agents), action_size)\n",
    "                env_info = env.step(action)[default_brain]\n",
    "            else:\n",
    "                action = np.column_stack([np.random.randint(0, action_size)])\n",
    "                env_info = env.step(action)[default_brain]\n",
    "            episode_rewards += env_info.rewards[0]\n",
    "            done = env_info.local_done[0]\n",
    "        print(\"Total reward this episode: {}\".format(episode_rewards))\n",
    "        \n",
    "# trial(1)"
   ]
  },
  {
   "cell_type": "code",
   "execution_count": 33,
   "metadata": {},
   "outputs": [],
   "source": [
    "import torch\n",
    "import torch.nn as nn\n",
    "import torch.nn.functional as F\n",
    "import torch.optim as optim\n",
    "\n",
    "class PTModel(nn.Module):\n",
    "    def __init__(self, state_size, action_size):\n",
    "        super().__init__()\n",
    "        self.hidden1 = nn.Linear(state_size, 200)\n",
    "        self.hidden2 = nn.Linear(200, 200)\n",
    "        self.hidden3 = nn.Linear(200, 200)\n",
    "        self.q_state = nn.Linear(200, action_size)\n",
    "        nn.init.xavier_normal_(self.hidden1.weight)\n",
    "        nn.init.xavier_normal_(self.hidden2.weight)\n",
    "        nn.init.xavier_normal_(self.hidden3.weight)\n",
    "        nn.init.xavier_normal_(self.q_state.weight)\n",
    "\n",
    "    def forward(self, state):\n",
    "        hidden1 = F.relu(self.hidden1(state))\n",
    "        hidden2 = F.relu(self.hidden2(hidden1)) + hidden1\n",
    "        hidden3 = F.relu(self.hidden3(hidden2)) + hidden2\n",
    "        q_state = self.q_state(hidden3)\n",
    "        return q_state\n",
    "\n",
    "class PTQNetwork():\n",
    "    def __init__(self, state_size, action_size, load=False):\n",
    "        self.model_local = PTModel(state_size, action_size)\n",
    "        self.model_target = PTModel(state_size, action_size)\n",
    "        self.optimizer = optim.Adam(self.model_local.parameters(), lr=0.0001, weight_decay=1e-4)\n",
    "        if load: self.load_model()\n",
    "\n",
    "    def get_q_state(self, state, use_target=False):\n",
    "        model = self.model_local if not use_target else self.model_target\n",
    "        state = torch.from_numpy(np.array(state)).float()\n",
    "        return model(state).detach().numpy()\n",
    "    \n",
    "    def get_loss(self, states, actions, q_targets):\n",
    "        states = torch.from_numpy(np.vstack(states)).float()\n",
    "        actions = torch.from_numpy(np.vstack(actions)).long()\n",
    "        q_targets = torch.from_numpy(np.vstack(q_targets)).float()\n",
    "        q_states_actions = self.model_local(states).gather(1, actions)\n",
    "        loss = (q_states_actions - q_targets)**2\n",
    "        return loss.mean()\n",
    "    \n",
    "    def optimize(self, states, actions, q_targets):\n",
    "        loss = self.get_loss(states, actions, q_targets)\n",
    "        self.optimizer.zero_grad()\n",
    "        loss.backward()\n",
    "        self.optimizer.step()\n",
    "        self.soft_copy(self.model_local, self.model_target)\n",
    "        \n",
    "    def soft_copy(self, local, target, tau=0.001):\n",
    "        for l,t in zip(local.parameters(), target.parameters()):\n",
    "            t.data.copy_(t.data + tau*(l.data - t.data))\n",
    "        \n",
    "    def save_model(self, filepath=\"./saved_models/torch/checkpoint.pth\"):\n",
    "        os.makedirs(os.path.dirname(filepath), exist_ok=True)\n",
    "        torch.save(self.model_local.state_dict(), filepath)\n",
    "        \n",
    "    def load_model(self, filepath=\"./saved_models/torch/checkpoint.pth\"):\n",
    "        if os.path.exists(filepath):\n",
    "            self.model_local.load_state_dict(torch.load(filepath))\n",
    "            self.model_target.load_state_dict(torch.load(filepath))"
   ]
  },
  {
   "cell_type": "code",
   "execution_count": 30,
   "metadata": {},
   "outputs": [
    {
     "name": "stdout",
     "output_type": "stream",
     "text": [
      "Tensorflow: 2.0.0-alpha0\n"
     ]
    }
   ],
   "source": [
    "import tensorflow as tf\n",
    "print(\"Tensorflow:\", tf.__version__)\n",
    "\n",
    "class TFModel(tf.keras.Model):\n",
    "    def __init__(self, state_size, action_size):\n",
    "        super().__init__()\n",
    "        self.hidden1 = tf.keras.layers.Dense(200, activation=tf.nn.relu,\n",
    "            kernel_initializer=tf.initializers.glorot_normal())\n",
    "        self.hidden2 = tf.keras.layers.Dense(200, activation=tf.nn.relu,\n",
    "            kernel_initializer=tf.initializers.glorot_normal(),\n",
    "            kernel_regularizer=tf.keras.regularizers.l2(l=1e-2))\n",
    "        self.hidden3 = tf.keras.layers.Dense(200, activation=tf.nn.relu,\n",
    "            kernel_initializer=tf.initializers.glorot_normal(),\n",
    "            kernel_regularizer=tf.keras.regularizers.l2(l=1e-6))\n",
    "        self.q_state = tf.keras.layers.Dense(action_size\n",
    "            kernel_initializer=tf.initializers.glorot_normal())\n",
    "        \n",
    "    def call(self, state):\n",
    "        hidden1 = self.hidden1(state)\n",
    "        hidden2 = self.hidden2(hidden1) + hidden1\n",
    "        hidden3 = self.hidden3(hidden2) + hidden2\n",
    "        q_state = self.q_state(hidden3)\n",
    "        return q_state\n",
    "    \n",
    "class TFQNetwork():\n",
    "    def __init__(self, state_size, action_size, load=False):\n",
    "        self.model_local = TFModel(state_size, action_size)\n",
    "        self.model_target = TFModel(state_size, action_size)\n",
    "        self.optimizer = tf.optimizers.Adam(learning_rate=0.0001)\n",
    "        self.action_size = action_size\n",
    "        if load: self.load_model()\n",
    "        \n",
    "    def get_q_state(self, state, use_target=False):\n",
    "        model = self.model_local if not use_target else self.model_target\n",
    "        return model(np.array(state)).numpy()\n",
    "    \n",
    "    def get_loss(self, states, actions, q_targets):\n",
    "        actions_one_hot = tf.one_hot(actions, depth=self.action_size)\n",
    "        q_states = tf.cast(self.model_local(states), tf.float32)\n",
    "        q_states_actions = tf.reduce_sum(tf.multiply(q_states, actions_one_hot), axis=1)\n",
    "        loss = tf.reduce_sum(tf.square(q_states_actions - q_targets))\n",
    "        return loss\n",
    "    \n",
    "    def optimize(self, states, actions, q_targets):\n",
    "        loss = lambda: self.get_loss(states, actions, q_targets)\n",
    "        self.optimizer.minimize(loss=loss, var_list=self.model_local.trainable_weights)\n",
    "        self.soft_copy(self.model_local, self.model_target)\n",
    "        \n",
    "    def soft_copy(self, local, target, tau=0.001):\n",
    "        new_target_vars = [t + tau*(l-t) for l,t in zip(local.get_weights(), target.get_weights())]\n",
    "        self.model_target.set_weights(new_target_vars)\n",
    "        \n",
    "    def save_model(self, filepath=\"./saved_models/tf2/model.tf\"):\n",
    "        os.makedirs(os.path.dirname(filepath), exist_ok=True)\n",
    "        self.model_local.save_weights(filepath)\n",
    "        \n",
    "    def load_model(self, filepath=\"./saved_models/tf2/model.tf\"):\n",
    "        if os.path.exists(filepath + \".index\"):\n",
    "            self.model_local.load_weights(filepath)\n",
    "            self.model_target.load_weights(filepath)"
   ]
  },
  {
   "cell_type": "code",
   "execution_count": 18,
   "metadata": {},
   "outputs": [],
   "source": [
    "from collections import deque\n",
    "import random\n",
    "\n",
    "class ReplayBuffer():\n",
    "    def __init__(self, maxlen):\n",
    "        self.buffer = deque(maxlen=maxlen)\n",
    "        \n",
    "    def add(self, experience):\n",
    "        self.buffer.append(experience)\n",
    "        \n",
    "    def sample(self, batch_size):\n",
    "        sample_size = min(len(self.buffer), batch_size)\n",
    "        samples = random.choices(self.buffer, k=sample_size)\n",
    "        return map(list, zip(*samples))"
   ]
  },
  {
   "cell_type": "code",
   "execution_count": 19,
   "metadata": {},
   "outputs": [],
   "source": [
    "class DQNAgent():\n",
    "    def __init__(self, state_size, action_size, eps=1.0, load=False):\n",
    "        self.state_size = state_size\n",
    "        self.action_size = action_size\n",
    "        self.q_network = PTQNetwork(state_size, action_size, load)\n",
    "        self.replay_buffer = ReplayBuffer(1000000)\n",
    "        self.eps = eps\n",
    "        self.gamma = 0.99\n",
    "\n",
    "    def get_action(self, state, eps=None):\n",
    "        eps = self.eps if eps == None else eps\n",
    "        action_greedy = np.argmax(self.q_network.get_q_state([state]))\n",
    "        action_random = np.random.randint(self.action_size)\n",
    "        action = action_random if random.random() < eps else action_greedy\n",
    "        return action\n",
    "        \n",
    "    def train(self, state, action, next_state, reward, done):\n",
    "        self.replay_buffer.add((state, action, next_state, reward, done))\n",
    "        states, actions, next_states, rewards, dones = self.replay_buffer.sample(32)\n",
    "        \n",
    "        next_actions = np.argmax(self.q_network.get_q_state(next_states, use_target=False), axis=1)\n",
    "        q_next_states = self.q_network.get_q_state(next_states, use_target=True)\n",
    "        q_next_states[dones] = np.zeros([self.action_size])\n",
    "        q_next_states_next_actions = q_next_states[np.arange(next_actions.shape[0]), next_actions]\n",
    "        q_targets = rewards + self.gamma * q_next_states_next_actions\n",
    "        self.q_network.optimize(states, actions, q_targets)\n",
    "\n",
    "        if done: self.eps = max(self.eps * 0.998, 0.1)"
   ]
  },
  {
   "cell_type": "code",
   "execution_count": 36,
   "metadata": {
    "scrolled": true
   },
   "outputs": [],
   "source": [
    "agent = DQNAgent(state_size, action_size, eps=1.0, load=False)\n",
    "num_episodes = 1000\n",
    "scores_buffer = deque(maxlen=100)\n",
    "scores = []\n",
    "avg_scores = []\n",
    "\n",
    "for ep in range(num_episodes):\n",
    "    #train_mode = (ep % 100) > 3 || (ep % 100) < 97\n",
    "    env_info = env.reset(train_mode=True)[default_brain]\n",
    "    state = env_info.vector_observations[0]\n",
    "    total_reward = 0\n",
    "    done = False\n",
    "    while not done:\n",
    "        action = agent.get_action(state)\n",
    "        env_info = env.step(action)[default_brain]\n",
    "        next_state = env_info.vector_observations[0]\n",
    "        reward = env_info.rewards[0]\n",
    "        done = env_info.local_done[0]  \n",
    "        agent.train(state, action, next_state, reward, done)\n",
    "        total_reward += reward  \n",
    "        state = next_state \n",
    "\n",
    "    scores.append(total_reward)\n",
    "    scores_buffer.append(total_reward)\n",
    "    avg_scores.append(np.mean(scores_buffer))\n",
    "    print(\"Episode: {}, Score: {}, Avg reward: {:.2f}\".format(ep, scores[-1], avg_scores[-1]))\n",
    "\n",
    "agent.q_network.save_model()"
   ]
  },
  {
   "cell_type": "code",
   "execution_count": 138,
   "metadata": {},
   "outputs": [
    {
     "data": {
      "text/plain": [
       "[<matplotlib.lines.Line2D at 0x12a819c50>,\n",
       " <matplotlib.lines.Line2D at 0x12a819da0>]"
      ]
     },
     "execution_count": 138,
     "metadata": {},
     "output_type": "execute_result"
    },
    {
     "data": {
      "image/png": "[encoded data removed]",
      "text/plain": [
       "<Figure size 432x288 with 1 Axes>"
      ]
     },
     "metadata": {
      "needs_background": "light"
     },
     "output_type": "display_data"
    }
   ],
   "source": [
    "import matplotlib.pyplot as plt\n",
    "%matplotlib inline\n",
    "\n",
    "x = range(len(scores))\n",
    "plt.plot(x,scores, x,avg_scores)"
   ]
  },
  {
   "cell_type": "code",
   "execution_count": 35,
   "metadata": {},
   "outputs": [
    {
     "data": {
      "text/plain": [
       "[<matplotlib.lines.Line2D at 0x13ca55748>,\n",
       " <matplotlib.lines.Line2D at 0x13ca55898>]"
      ]
     },
     "execution_count": 35,
     "metadata": {},
     "output_type": "execute_result"
    },
    {
     "data": {
      "image/png": "[encoded data removed]",
      "text/plain": [
       "<Figure size 432x288 with 1 Axes>"
      ]
     },
     "metadata": {
      "needs_background": "light"
     },
     "output_type": "display_data"
    }
   ],
   "source": [
    "import matplotlib.pyplot as plt\n",
    "%matplotlib inline\n",
    "\n",
    "x = range(len(scores))\n",
    "plt.plot(x,scores, x,avg_scores)"
   ]
  },
  {
   "cell_type": "code",
   "execution_count": 140,
   "metadata": {},
   "outputs": [
    {
     "name": "stdout",
     "output_type": "stream",
     "text": [
      "Episode: 0, Score: -18.0\n"
     ]
    }
   ],
   "source": [
    "test_agent = DQNAgent(state_size, action_size, load=True)\n",
    "\n",
    "for ep in range(1):\n",
    "    env_info = env.reset(train_mode=False)[default_brain]\n",
    "    state = env_info.vector_observations[0]\n",
    "    total_reward = 0\n",
    "    done = False\n",
    "    while not done:\n",
    "        action = test_agent.get_action(state, eps=0.0)\n",
    "        env_info = env.step(action)[default_brain]\n",
    "        next_state = env_info.vector_observations[0]\n",
    "        reward = env_info.rewards[0]\n",
    "        done = env_info.local_done[0]\n",
    "        total_reward += reward  \n",
    "        state = next_state \n",
    "    print(\"Episode: {}, Score: {}\".format(ep, total_reward))"
   ]
  },
  {
   "cell_type": "markdown",
   "metadata": {},
   "source": [
    "### 6. Close the environment when finished\n",
    "When we are finished using an environment, we can close it with the function below."
   ]
  },
  {
   "cell_type": "code",
   "execution_count": 24,
   "metadata": {},
   "outputs": [],
   "source": [
    "env.close()"
   ]
  },
  {
   "cell_type": "code",
   "execution_count": null,
   "metadata": {},
   "outputs": [],
   "source": []
  }
 ],
 "metadata": {
  "anaconda-cloud": {},
  "kernelspec": {
   "display_name": "Python 3",
   "language": "python",
   "name": "python3"
  },
  "language_info": {
   "codemirror_mode": {
    "name": "ipython",
    "version": 3
   },
   "file_extension": ".py",
   "mimetype": "text/x-python",
   "name": "python",
   "nbconvert_exporter": "python",
   "pygments_lexer": "ipython3",
   "version": "3.6.8"
  }
 },
 "nbformat": 4,
 "nbformat_minor": 1
}
