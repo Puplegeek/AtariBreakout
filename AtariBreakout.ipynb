{
 "cells": [
  {
   "cell_type": "markdown",
   "metadata": {},
   "source": [
    "# Neural Networks Learn Atari Breakout\n",
    "\n",
    "This notebook walks you through the setup "
   ]
  },
  {
   "cell_type": "markdown",
   "metadata": {},
   "source": [
    "## 1. Install Dependencies\n",
    "\n",
    "Import the libraries that are needed for loading the environment. The following loads the necessary dependencies and checks the Python version (at runtime). ML-Agents Toolkit (v0.3 onwards) requires Python 3."
   ]
  },
  {
   "cell_type": "code",
   "execution_count": 1,
   "metadata": {},
   "outputs": [],
   "source": [
    "!pip3 install -q ./ml-agents/ml-agents || !pip install -q ./ml-agents/ml-agents/\n",
    "!pip3 install -q tensorflow==2.0.0-alpha0 || !pip install -q tensorflow==2.0.0-alpha0\n",
    "# !pip3 install -q torch==1.0.1.post2 || !pip install -q torch==1.0.1.post2"
   ]
  },
  {
   "cell_type": "markdown",
   "metadata": {},
   "source": [
    "## 2. Load the environment\n",
    "\n",
    "`UnityEnvironment` launches and begins communication with the environment when instantiated.\n",
    "\n",
    "Environments contain _brains_ which are responsible for deciding the actions of their associated _agents_. Here we check for the first brain available, and set it as the default brain we will be controlling from Python."
   ]
  },
  {
   "cell_type": "code",
   "execution_count": 14,
   "metadata": {},
   "outputs": [
    {
     "name": "stderr",
     "output_type": "stream",
     "text": [
      "WARNING: Logging before flag parsing goes to stderr.\n",
      "I0415 20:04:45.886189 140593007007488 environment.py:93] \n",
      "'Academy' started successfully!\n",
      "Unity Academy name: Academy\n",
      "        Number of Brains: 2\n",
      "        Number of Training Brains : 1\n",
      "        Reset Parameters :\n",
      "\t\tepisode -> 0.0\n",
      "Unity brain name: BreakoutLearning\n",
      "        Number of Visual Observations (per agent): 0\n",
      "        Vector Observation space size (per agent): 54\n",
      "        Number of stacked Vector Observation: 1\n",
      "        Vector Action space type: discrete\n",
      "        Vector Action space size (per agent): [3]\n",
      "        Vector Action descriptions: \n",
      "Unity brain name: BreakoutPlayer\n",
      "        Number of Visual Observations (per agent): 0\n",
      "        Vector Observation space size (per agent): 54\n",
      "        Number of stacked Vector Observation: 1\n",
      "        Vector Action space type: discrete\n",
      "        Vector Action space size (per agent): [3]\n",
      "        Vector Action descriptions: \n"
     ]
    }
   ],
   "source": [
    "import os\n",
    "import platform\n",
    "import numpy as np\n",
    "from mlagents.envs import UnityEnvironment\n",
    "\n",
    "env_names = {\"Linux\": \"./env/linux/Breakout\", \"Darwin\": \"./env/mac/Breakout\", \"Windows\": \"./env/windows/Breakout\"}\n",
    "env_name = env_names[platform.system()]\n",
    "unity_env = UnityEnvironment(file_name=env_name)"
   ]
  },
  {
   "cell_type": "markdown",
   "metadata": {},
   "source": [
    "### 2.1 Examine the observation and state spaces\n",
    "\n",
    "We can reset the environment to be provided with an initial set of observations and states for all the agents within the environment. In ML-Agents, _states_ refer to a vector of variables corresponding to relevant aspects of the environment for an agent. Likewise, _observations_ refer to a set of relevant pixel-wise visuals for an agent.\n",
    "\n",
    "In this environment, a double-jointed arm can move to target locations. A reward of +0.1 is provided for each step that the agent's hand is in the goal location. Thus, the goal of your agent is to maintain its position at the target location for as many time steps as possible.\n",
    "\n",
    "The observation space consists of 33 variables corresponding to position, rotation, velocity, and angular velocities of the arm. Each action is a vector with four numbers, corresponding to torque applicable to two joints. Every entry in the action vector must be a number between -1 and 1.\n",
    "\n",
    "Run the code cell below to print some information about the environment."
   ]
  },
  {
   "cell_type": "code",
   "execution_count": 15,
   "metadata": {},
   "outputs": [
    {
     "name": "stdout",
     "output_type": "stream",
     "text": [
      "Number of actions: 3\n",
      "States have length: 54\n",
      "States look like: [ 0.          0.         -0.46177194  0.88699871  0.          0.\n",
      "  1.          1.          1.          1.          1.          1.\n",
      "  1.          1.          1.          1.          1.          1.\n",
      "  1.          1.          1.          1.          1.          1.\n",
      "  1.          1.          1.          1.          1.          1.\n",
      "  1.          1.          1.          1.          1.          1.\n",
      "  1.          1.          1.          1.          1.          1.\n",
      "  1.          1.          1.          1.          1.          1.\n",
      "  1.          1.          1.          1.          1.          1.        ]\n"
     ]
    }
   ],
   "source": [
    "class GymEnv():\n",
    "    def __init__(self, unity_env):\n",
    "        self.env = unity_env\n",
    "        self.default_brain = unity_env.brain_names[0]\n",
    "        self.observation_space_size = unity_env.brains[self.default_brain].vector_observation_space_size\n",
    "        self.action_space_size = int(unity_env.brains[self.default_brain].vector_action_space_size[0])\n",
    "        \n",
    "    def reset(self, train_mode=True, episode=None):\n",
    "        config = {\"episode\": episode} if episode != None else None\n",
    "        self.env_info = self.env.reset(train_mode=train_mode, config=config)[self.default_brain]\n",
    "        return self.env_info.vector_observations[0]\n",
    "    \n",
    "    def step(self, action):\n",
    "        self.env_info = self.env.step(action)[self.default_brain]\n",
    "        next_state = self.env_info.vector_observations[0]\n",
    "        reward = self.env_info.rewards[0]\n",
    "        done = self.env_info.local_done[0]\n",
    "        return next_state, reward, done, self.env_info\n",
    "    \n",
    "    def close(self):\n",
    "        self.env.close()\n",
    "        \n",
    "env = GymEnv(unity_env)\n",
    "action_size = env.action_space_size\n",
    "state_size = env.observation_space_size\n",
    "state = env.reset()\n",
    "\n",
    "print('Number of actions:', action_size)\n",
    "print('States have length:', state_size)\n",
    "print('States look like:', state)"
   ]
  },
  {
   "cell_type": "markdown",
   "metadata": {},
   "source": [
    "## 3. Define the Reinforcement Learning Components\n",
    "\n",
    "The next step is to define the components that make up the reinforcement learning algorithm. This requires defining:\n",
    "\n",
    "- **3.1** The neural network architecture to approximate the Q function.\n",
    "- **3.2** The experience replay buffer for storing and sampling batches of experience tuples.\n",
    "- **3.3** The Q-Learning agent that samples from the replay buffer and trains the neural network."
   ]
  },
  {
   "cell_type": "markdown",
   "metadata": {},
   "source": [
    "#### 3.1.0 Neural Network Hyperparameters"
   ]
  },
  {
   "cell_type": "code",
   "execution_count": 4,
   "metadata": {},
   "outputs": [],
   "source": [
    "HIDDEN_SIZE = 1000\n",
    "LEARNING_RATE = 0.0001\n",
    "REGULARIZER_LAMBDA = 1e-6\n",
    "TARGET_UPDATE_RATE = 1e-3"
   ]
  },
  {
   "cell_type": "markdown",
   "metadata": {},
   "source": [
    "####  3.1.1 Tensorflow QNetwork\n",
    "\n",
    "Below is the implementation of a QNetwork using tensorflow as the backend model. This contains a tensorflow session and after initially building the network graph, it is trained by running the optimizer with the state, action and q_target values for training."
   ]
  },
  {
   "cell_type": "code",
   "execution_count": 5,
   "metadata": {},
   "outputs": [
    {
     "name": "stderr",
     "output_type": "stream",
     "text": [
      "/opt/conda/lib/python3.6/site-packages/h5py/__init__.py:36: FutureWarning: Conversion of the second argument of issubdtype from `float` to `np.floating` is deprecated. In future, it will be treated as `np.float64 == np.dtype(float).type`.\n",
      "  from ._conv import register_converters as _register_converters\n"
     ]
    },
    {
     "name": "stdout",
     "output_type": "stream",
     "text": [
      "Tensorflow: 2.0.0-alpha0\n"
     ]
    }
   ],
   "source": [
    "import tensorflow as tf\n",
    "print(\"Tensorflow:\", tf.__version__)\n",
    "\n",
    "class TFModel(tf.keras.Model):\n",
    "    def __init__(self, state_size, action_size):\n",
    "        super().__init__()\n",
    "        self.hidden1 = tf.keras.layers.Dense(HIDDEN_SIZE, activation=tf.nn.relu, kernel_initializer=tf.initializers.glorot_normal())\n",
    "        self.hidden2 = tf.keras.layers.Dense(HIDDEN_SIZE, activation=tf.nn.relu, kernel_initializer=tf.initializers.glorot_normal(), kernel_regularizer=tf.keras.regularizers.l2(l=REGULARIZER_LAMBDA))\n",
    "        self.q_state = tf.keras.layers.Dense(action_size, activation=None, kernel_initializer=tf.initializers.glorot_normal())\n",
    "        \n",
    "    def call(self, state):\n",
    "        hidden1 = self.hidden1(state)\n",
    "        hidden2 = self.hidden2(hidden1) + hidden1\n",
    "        q_state = self.q_state(hidden2)\n",
    "        return q_state\n",
    "    \n",
    "class TFQNetwork():\n",
    "    def __init__(self, state_size, action_size, load=False):\n",
    "        self.model_local = TFModel(state_size, action_size)\n",
    "        self.model_target = TFModel(state_size, action_size)\n",
    "        self.optimizer = tf.optimizers.Adam(learning_rate=LEARNING_RATE)\n",
    "        self.action_size = action_size\n",
    "        if load: self.load_model()\n",
    "        \n",
    "    def get_q_state(self, state, use_target=False):\n",
    "        model = self.model_local if not use_target else self.model_target\n",
    "        return model(np.array(state)).numpy()\n",
    "    \n",
    "    def get_loss(self, states, actions, q_targets):\n",
    "        actions_one_hot = tf.one_hot(actions, depth=self.action_size)\n",
    "        q_states = tf.cast(self.model_local(states), tf.float32)\n",
    "        q_states_actions = tf.reduce_sum(tf.multiply(q_states, actions_one_hot), axis=1)\n",
    "        loss = tf.reduce_sum(tf.square(q_states_actions - q_targets))\n",
    "        return loss\n",
    "    \n",
    "    def optimize(self, states, actions, q_targets):\n",
    "        loss = lambda: self.get_loss(states, actions, q_targets)\n",
    "        self.optimizer.minimize(loss=loss, var_list=self.model_local.trainable_weights)\n",
    "        self.soft_copy(self.model_local, self.model_target)\n",
    "        \n",
    "    def soft_copy(self, local, target, tau=TARGET_UPDATE_RATE):\n",
    "        new_target_vars = [t + tau*(l-t) for l,t in zip(local.get_weights(), target.get_weights())]\n",
    "        self.model_target.set_weights(new_target_vars)\n",
    "        \n",
    "    def save_model(self, filepath=\"./saved_models/tensorflow2/model.tf\"):\n",
    "        os.makedirs(os.path.dirname(filepath), exist_ok=True)\n",
    "        self.model_local.save_weights(filepath)\n",
    "        \n",
    "    def load_model(self, filepath=\"./saved_models/tensorflow2/model.tf\"):\n",
    "        if os.path.exists(filepath + \".index\"):\n",
    "            self.model_local.load_weights(filepath)\n",
    "            self.model_target.load_weights(filepath)"
   ]
  },
  {
   "cell_type": "markdown",
   "metadata": {},
   "source": [
    "#### 3.1.2 PyTorch QNetwork\n",
    "\n",
    "Below is the implementation of a QNetwork using pytorch as the backend model. This involves first defining a Model class which subclasses the pytorch nn.Module class and then defines the network graph which can be run with the forward function.\n",
    "\n",
    "Then the Model is included in an enclosing PTQNetwork class which trains the model by taking in the states and running the Model class to get the q values which are then indexed by the actions and then the gradients are calculated from the MSE loss between the predicted q value and the q_target."
   ]
  },
  {
   "cell_type": "code",
   "execution_count": 6,
   "metadata": {},
   "outputs": [
    {
     "name": "stdout",
     "output_type": "stream",
     "text": [
      "PyTorch: 0.4.0\n"
     ]
    }
   ],
   "source": [
    "import torch\n",
    "print(\"PyTorch:\", torch.__version__)\n",
    "\n",
    "class PTModel(torch.nn.Module):\n",
    "    def __init__(self, state_size, action_size):\n",
    "        super().__init__()\n",
    "        self.hidden1 = torch.nn.Linear(state_size, HIDDEN_SIZE)\n",
    "        self.hidden2 = torch.nn.Linear(HIDDEN_SIZE, HIDDEN_SIZE)\n",
    "        self.q_state = torch.nn.Linear(HIDDEN_SIZE, action_size)\n",
    "        torch.nn.init.xavier_normal_(self.hidden1.weight)\n",
    "        torch.nn.init.xavier_normal_(self.hidden2.weight)\n",
    "        torch.nn.init.xavier_normal_(self.q_state.weight)\n",
    "\n",
    "    def forward(self, state):\n",
    "        hidden1 = torch.nn.functional.relu(self.hidden1(state))\n",
    "        hidden2 = torch.nn.functional.relu(self.hidden2(hidden1)) + hidden1\n",
    "        q_state = self.q_state(hidden2)\n",
    "        return q_state\n",
    "\n",
    "class PTQNetwork():\n",
    "    def __init__(self, state_size, action_size, load=False):\n",
    "        self.model_local = PTModel(state_size, action_size)\n",
    "        self.model_target = PTModel(state_size, action_size)\n",
    "        self.optimizer = torch.optim.Adam(self.model_local.parameters(), lr=LEARNING_RATE, weight_decay=REGULARIZER_LAMBDA)\n",
    "        if load: self.load_model()\n",
    "\n",
    "    def get_q_state(self, state, use_target=False):\n",
    "        model = self.model_local if not use_target else self.model_target\n",
    "        state = torch.from_numpy(np.array(state)).float()\n",
    "        return model(state).detach().numpy()\n",
    "    \n",
    "    def get_loss(self, states, actions, q_targets):\n",
    "        states = torch.from_numpy(np.vstack(states)).float()\n",
    "        actions = torch.from_numpy(np.vstack(actions)).long()\n",
    "        q_targets = torch.from_numpy(np.vstack(q_targets)).float()\n",
    "        q_states_actions = self.model_local(states).gather(1, actions)\n",
    "        loss = (q_states_actions - q_targets)**2\n",
    "        return loss.mean()\n",
    "    \n",
    "    def optimize(self, states, actions, q_targets):\n",
    "        loss = self.get_loss(states, actions, q_targets)\n",
    "        self.optimizer.zero_grad()\n",
    "        loss.backward()\n",
    "        self.optimizer.step()\n",
    "        self.soft_copy(self.model_local, self.model_target)\n",
    "        \n",
    "    def soft_copy(self, local, target, tau=TARGET_UPDATE_RATE):\n",
    "        for l,t in zip(local.parameters(), target.parameters()):\n",
    "            t.data.copy_(t.data + tau*(l.data - t.data))\n",
    "        \n",
    "    def save_model(self, filepath=\"./saved_models/pytorch/checkpoint.pth\"):\n",
    "        os.makedirs(os.path.dirname(filepath), exist_ok=True)\n",
    "        torch.save(self.model_local.state_dict(), filepath)\n",
    "        \n",
    "    def load_model(self, filepath=\"./saved_models/pytorch/checkpoint.pth\"):\n",
    "        if os.path.exists(filepath):\n",
    "            self.model_local.load_state_dict(torch.load(filepath))\n",
    "            self.model_target.load_state_dict(torch.load(filepath))"
   ]
  },
  {
   "cell_type": "markdown",
   "metadata": {},
   "source": [
    "### 3.2 Experience Replay\n",
    "\n",
    "Below is the implementation of a Replay Buffer using the deque collection as the rolling buffer of experience tuples. This can be sampled by specifying the sample size and then returns each individual experience type as separate lists."
   ]
  },
  {
   "cell_type": "code",
   "execution_count": 7,
   "metadata": {},
   "outputs": [],
   "source": [
    "from collections import deque\n",
    "import random\n",
    "\n",
    "class ReplayBuffer():\n",
    "    def __init__(self, maxlen):\n",
    "        self.buffer = deque(maxlen=maxlen)\n",
    "        \n",
    "    def add(self, experience):\n",
    "        self.buffer.append(experience)\n",
    "        \n",
    "    def sample(self, batch_size):\n",
    "        sample_size = min(len(self.buffer), batch_size)\n",
    "        samples = random.choices(self.buffer, k=sample_size)\n",
    "        return map(list, zip(*samples))"
   ]
  },
  {
   "cell_type": "markdown",
   "metadata": {},
   "source": [
    "### 3.3 Q-Learning Algorithm\n",
    "\n",
    "Below is the implementation of the agent that uses Deep Q Networks to learn the Bellman equation for selecting actions to take in a given state from the environment. It selects an action from an epsilon-greedy policy starting with eps = 1.0 which decreases as the network is trained."
   ]
  },
  {
   "cell_type": "markdown",
   "metadata": {},
   "source": [
    "#### 3.3.0 Q-Learning Hyperparameters"
   ]
  },
  {
   "cell_type": "code",
   "execution_count": 8,
   "metadata": {},
   "outputs": [],
   "source": [
    "MAX_BUFFER_SIZE = 1000000\n",
    "REPLAY_BATCH_SIZE = 32\n",
    "DISCOUNT_RATE = 0.99\n",
    "EPS_MAX = 1.0\n",
    "EPS_MIN = 0.1\n",
    "EPS_DECAY = 0.998"
   ]
  },
  {
   "cell_type": "markdown",
   "metadata": {},
   "source": [
    "#### 3.3.1 Q-Learning Agent"
   ]
  },
  {
   "cell_type": "code",
   "execution_count": 9,
   "metadata": {},
   "outputs": [],
   "source": [
    "class DQNAgent():\n",
    "    def __init__(self, state_size, action_size, network=TFQNetwork, eps=EPS_MAX, load=False):\n",
    "        self.state_size = state_size\n",
    "        self.action_size = action_size\n",
    "        self.q_network = network(state_size, action_size, load)\n",
    "        self.replay_buffer = ReplayBuffer(MAX_BUFFER_SIZE)\n",
    "        self.eps = eps\n",
    "        self.gamma = DISCOUNT_RATE\n",
    "\n",
    "    def get_action(self, state, eps=None):\n",
    "        eps = self.eps if eps == None else eps\n",
    "        action_greedy = np.argmax(self.q_network.get_q_state([state]))\n",
    "        action_random = np.random.randint(self.action_size)\n",
    "        action = action_random if random.random() < eps else action_greedy\n",
    "        return action\n",
    "        \n",
    "    def train(self, state, action, next_state, reward, done):\n",
    "        self.replay_buffer.add((state, action, next_state, reward, done))\n",
    "        states, actions, next_states, rewards, dones = self.replay_buffer.sample(REPLAY_BATCH_SIZE)\n",
    "        \n",
    "        next_actions = np.argmax(self.q_network.get_q_state(next_states, use_target=False), axis=1)\n",
    "        q_next_states = self.q_network.get_q_state(next_states, use_target=True)\n",
    "        q_next_states[dones] = np.zeros([self.action_size])\n",
    "        q_next_states_next_actions = q_next_states[np.arange(next_actions.shape[0]), next_actions]\n",
    "        q_targets = rewards + self.gamma * q_next_states_next_actions\n",
    "        self.q_network.optimize(states, actions, q_targets)\n",
    "\n",
    "        if done: self.eps = max(self.eps * EPS_DECAY, EPS_MIN)"
   ]
  },
  {
   "cell_type": "markdown",
   "metadata": {},
   "source": [
    "## 4. Train the Agent\n",
    "\n",
    "Below is the training loop for training the agent through a number of episodes of interacting with the environment. It keeps track of the total reward from each episode and also stores the last 100 episode rewards for calculating the average reward for checking when the environment was solved."
   ]
  },
  {
   "cell_type": "code",
   "execution_count": null,
   "metadata": {
    "scrolled": true
   },
   "outputs": [
    {
     "name": "stdout",
     "output_type": "stream",
     "text": [
      "Episode: 1500, Score: 7.0, Avg reward: 7.00\n",
      "Episode: 1501, Score: 22.0, Avg reward: 14.50\n",
      "Episode: 1502, Score: 3.0, Avg reward: 10.67\n",
      "Episode: 1503, Score: 10.0, Avg reward: 10.50\n",
      "Episode: 1504, Score: 5.0, Avg reward: 9.40\n",
      "Episode: 1505, Score: 6.0, Avg reward: 8.83\n",
      "Episode: 1506, Score: 13.0, Avg reward: 9.43\n",
      "Episode: 1507, Score: 23.0, Avg reward: 11.12\n",
      "Episode: 1508, Score: 14.0, Avg reward: 11.44\n",
      "Episode: 1509, Score: 34.0, Avg reward: 13.70\n",
      "Episode: 1510, Score: 1.0, Avg reward: 12.55\n",
      "Episode: 1511, Score: 9.0, Avg reward: 12.25\n",
      "Episode: 1512, Score: 2.0, Avg reward: 11.46\n",
      "Episode: 1513, Score: 2.0, Avg reward: 10.79\n",
      "Episode: 1514, Score: 1.0, Avg reward: 10.13\n",
      "Episode: 1515, Score: 8.0, Avg reward: 10.00\n",
      "Episode: 1516, Score: 7.0, Avg reward: 9.82\n",
      "Episode: 1517, Score: 2.0, Avg reward: 9.39\n",
      "Episode: 1518, Score: 30.0, Avg reward: 10.47\n",
      "Episode: 1519, Score: 8.0, Avg reward: 10.35\n",
      "Episode: 1520, Score: 4.0, Avg reward: 10.05\n",
      "Episode: 1521, Score: 9.0, Avg reward: 10.00\n",
      "Episode: 1522, Score: 4.0, Avg reward: 9.74\n",
      "Episode: 1523, Score: 6.0, Avg reward: 9.58\n",
      "Episode: 1524, Score: 1.0, Avg reward: 9.24\n",
      "Episode: 1525, Score: 4.0, Avg reward: 9.04\n",
      "Episode: 1526, Score: 6.0, Avg reward: 8.93\n",
      "Episode: 1527, Score: 2.0, Avg reward: 8.68\n",
      "Episode: 1528, Score: 7.0, Avg reward: 8.62\n",
      "Episode: 1529, Score: 4.0, Avg reward: 8.47\n",
      "Episode: 1530, Score: 5.0, Avg reward: 8.35\n",
      "Episode: 1531, Score: 0.0, Avg reward: 8.09\n",
      "Episode: 1532, Score: 2.0, Avg reward: 7.91\n",
      "Episode: 1533, Score: 13.0, Avg reward: 8.06\n",
      "Episode: 1534, Score: 6.0, Avg reward: 8.00\n",
      "Episode: 1535, Score: 11.0, Avg reward: 8.08\n",
      "Episode: 1536, Score: 2.0, Avg reward: 7.92\n",
      "Episode: 1537, Score: 6.0, Avg reward: 7.87\n",
      "Episode: 1538, Score: 9.0, Avg reward: 7.90\n",
      "Episode: 1539, Score: 9.0, Avg reward: 7.92\n",
      "Episode: 1540, Score: 6.0, Avg reward: 7.88\n",
      "Episode: 1541, Score: -1.0, Avg reward: 7.67\n",
      "Episode: 1542, Score: 2.0, Avg reward: 7.53\n",
      "Episode: 1543, Score: 37.0, Avg reward: 8.20\n",
      "Episode: 1544, Score: 2.0, Avg reward: 8.07\n",
      "Episode: 1545, Score: -1.0, Avg reward: 7.87\n",
      "Episode: 1546, Score: 5.0, Avg reward: 7.81\n",
      "Episode: 1547, Score: 1.0, Avg reward: 7.67\n",
      "Episode: 1548, Score: 13.0, Avg reward: 7.78\n",
      "Episode: 1549, Score: 2.0, Avg reward: 7.66\n",
      "Episode: 1550, Score: 4.0, Avg reward: 7.59\n",
      "Episode: 1551, Score: 5.0, Avg reward: 7.54\n",
      "Episode: 1552, Score: 8.0, Avg reward: 7.55\n",
      "Episode: 1553, Score: 22.0, Avg reward: 7.81\n",
      "Episode: 1554, Score: 6.0, Avg reward: 7.78\n",
      "Episode: 1555, Score: 8.0, Avg reward: 7.79\n",
      "Episode: 1556, Score: 5.0, Avg reward: 7.74\n",
      "Episode: 1557, Score: 9.0, Avg reward: 7.76\n",
      "Episode: 1558, Score: 14.0, Avg reward: 7.86\n",
      "Episode: 1559, Score: 4.0, Avg reward: 7.80\n",
      "Episode: 1560, Score: 3.0, Avg reward: 7.72\n",
      "Episode: 1561, Score: 10.0, Avg reward: 7.76\n",
      "Episode: 1562, Score: 4.0, Avg reward: 7.70\n",
      "Episode: 1563, Score: 12.0, Avg reward: 7.77\n",
      "Episode: 1564, Score: 34.0, Avg reward: 8.17\n",
      "Episode: 1565, Score: 2.0, Avg reward: 8.08\n",
      "Episode: 1566, Score: 11.0, Avg reward: 8.12\n",
      "Episode: 1567, Score: 0.0, Avg reward: 8.00\n",
      "Episode: 1568, Score: 1.0, Avg reward: 7.90\n",
      "Episode: 1569, Score: 8.0, Avg reward: 7.90\n",
      "Episode: 1570, Score: 10.0, Avg reward: 7.93\n",
      "Episode: 1571, Score: 36.0, Avg reward: 8.32\n",
      "Episode: 1572, Score: 4.0, Avg reward: 8.26\n",
      "Episode: 1573, Score: 1.0, Avg reward: 8.16\n",
      "Episode: 1574, Score: 7.0, Avg reward: 8.15\n",
      "Episode: 1575, Score: 42.0, Avg reward: 8.59\n",
      "Episode: 1576, Score: 0.0, Avg reward: 8.48\n",
      "Episode: 1577, Score: 10.0, Avg reward: 8.50\n",
      "Episode: 1578, Score: 3.0, Avg reward: 8.43\n",
      "Episode: 1579, Score: 10.0, Avg reward: 8.45\n",
      "Episode: 1580, Score: 7.0, Avg reward: 8.43\n",
      "Episode: 1581, Score: 10.0, Avg reward: 8.45\n",
      "Episode: 1582, Score: 17.0, Avg reward: 8.55\n",
      "Episode: 1583, Score: 10.0, Avg reward: 8.57\n",
      "Episode: 1584, Score: 4.0, Avg reward: 8.52\n",
      "Episode: 1585, Score: 4.0, Avg reward: 8.47\n",
      "Episode: 1586, Score: 1.0, Avg reward: 8.38\n",
      "Episode: 1587, Score: 1.0, Avg reward: 8.30\n",
      "Episode: 1588, Score: 3.0, Avg reward: 8.24\n",
      "Episode: 1589, Score: 7.0, Avg reward: 8.22\n",
      "Episode: 1590, Score: 15.0, Avg reward: 8.30\n",
      "Episode: 1591, Score: 9.0, Avg reward: 8.30\n",
      "Episode: 1592, Score: 0.0, Avg reward: 8.22\n",
      "Episode: 1593, Score: 8.0, Avg reward: 8.21\n",
      "Episode: 1594, Score: 6.0, Avg reward: 8.19\n",
      "Episode: 1595, Score: 24.0, Avg reward: 8.35\n",
      "Episode: 1596, Score: 21.0, Avg reward: 8.48\n",
      "Episode: 1597, Score: 4.0, Avg reward: 8.44\n",
      "Episode: 1598, Score: 3.0, Avg reward: 8.38\n",
      "Episode: 1599, Score: 1.0, Avg reward: 8.31\n",
      "Episode: 1600, Score: 7.0, Avg reward: 8.31\n",
      "Episode: 1601, Score: 11.0, Avg reward: 8.20\n",
      "Episode: 1602, Score: 15.0, Avg reward: 8.32\n",
      "Episode: 1603, Score: 7.0, Avg reward: 8.29\n",
      "Episode: 1604, Score: 7.0, Avg reward: 8.31\n",
      "Episode: 1605, Score: 8.0, Avg reward: 8.33\n",
      "Episode: 1606, Score: 4.0, Avg reward: 8.24\n",
      "Episode: 1607, Score: 5.0, Avg reward: 8.06\n",
      "Episode: 1608, Score: 37.0, Avg reward: 8.29\n",
      "Episode: 1609, Score: 7.0, Avg reward: 8.02\n",
      "Episode: 1610, Score: 13.0, Avg reward: 8.14\n",
      "Episode: 1611, Score: 6.0, Avg reward: 8.11\n",
      "Episode: 1612, Score: 4.0, Avg reward: 8.13\n",
      "Episode: 1613, Score: 5.0, Avg reward: 8.16\n",
      "Episode: 1614, Score: 10.0, Avg reward: 8.25\n",
      "Episode: 1615, Score: 8.0, Avg reward: 8.25\n",
      "Episode: 1616, Score: 23.0, Avg reward: 8.41\n",
      "Episode: 1617, Score: 38.0, Avg reward: 8.77\n",
      "Episode: 1618, Score: 4.0, Avg reward: 8.51\n",
      "Episode: 1619, Score: 3.0, Avg reward: 8.46\n",
      "Episode: 1620, Score: 5.0, Avg reward: 8.47\n",
      "Episode: 1621, Score: 2.0, Avg reward: 8.40\n",
      "Episode: 1622, Score: 11.0, Avg reward: 8.47\n",
      "Episode: 1623, Score: -1.0, Avg reward: 8.40\n",
      "Episode: 1624, Score: 8.0, Avg reward: 8.47\n",
      "Episode: 1625, Score: 4.0, Avg reward: 8.47\n",
      "Episode: 1626, Score: 25.0, Avg reward: 8.66\n",
      "Episode: 1627, Score: 11.0, Avg reward: 8.75\n",
      "Episode: 1628, Score: 13.0, Avg reward: 8.81\n",
      "Episode: 1629, Score: 28.0, Avg reward: 9.05\n",
      "Episode: 1630, Score: 40.0, Avg reward: 9.40\n",
      "Episode: 1631, Score: 1.0, Avg reward: 9.41\n",
      "Episode: 1632, Score: 9.0, Avg reward: 9.48\n",
      "Episode: 1633, Score: 0.0, Avg reward: 9.35\n",
      "Episode: 1634, Score: 3.0, Avg reward: 9.32\n",
      "Episode: 1635, Score: 10.0, Avg reward: 9.31\n",
      "Episode: 1636, Score: 30.0, Avg reward: 9.59\n",
      "Episode: 1637, Score: 5.0, Avg reward: 9.58\n",
      "Episode: 1638, Score: 7.0, Avg reward: 9.56\n",
      "Episode: 1639, Score: 6.0, Avg reward: 9.53\n",
      "Episode: 1640, Score: 2.0, Avg reward: 9.49\n",
      "Episode: 1641, Score: 7.0, Avg reward: 9.57\n",
      "Episode: 1642, Score: 9.0, Avg reward: 9.64\n",
      "Episode: 1643, Score: 3.0, Avg reward: 9.30\n",
      "Episode: 1644, Score: 22.0, Avg reward: 9.50\n",
      "Episode: 1645, Score: 5.0, Avg reward: 9.56\n",
      "Episode: 1646, Score: 21.0, Avg reward: 9.72\n",
      "Episode: 1647, Score: 7.0, Avg reward: 9.78\n",
      "Episode: 1648, Score: 7.0, Avg reward: 9.72\n",
      "Episode: 1649, Score: 12.0, Avg reward: 9.82\n",
      "Episode: 1650, Score: 19.0, Avg reward: 9.97\n",
      "Episode: 1651, Score: 2.0, Avg reward: 9.94\n",
      "Episode: 1652, Score: 5.0, Avg reward: 9.91\n",
      "Episode: 1653, Score: 15.0, Avg reward: 9.84\n",
      "Episode: 1654, Score: 8.0, Avg reward: 9.86\n",
      "Episode: 1655, Score: 6.0, Avg reward: 9.84\n",
      "Episode: 1656, Score: 0.0, Avg reward: 9.79\n",
      "Episode: 1657, Score: 2.0, Avg reward: 9.72\n",
      "Episode: 1658, Score: 30.0, Avg reward: 9.88\n",
      "Episode: 1659, Score: 4.0, Avg reward: 9.88\n",
      "Episode: 1660, Score: 3.0, Avg reward: 9.88\n",
      "Episode: 1661, Score: -1.0, Avg reward: 9.77\n",
      "Episode: 1662, Score: 2.0, Avg reward: 9.75\n",
      "Episode: 1663, Score: 1.0, Avg reward: 9.64\n",
      "Episode: 1664, Score: 18.0, Avg reward: 9.48\n",
      "Episode: 1665, Score: 1.0, Avg reward: 9.47\n",
      "Episode: 1666, Score: 3.0, Avg reward: 9.39\n",
      "Episode: 1667, Score: 3.0, Avg reward: 9.42\n",
      "Episode: 1668, Score: 3.0, Avg reward: 9.44\n",
      "Episode: 1669, Score: 18.0, Avg reward: 9.54\n",
      "Episode: 1670, Score: 16.0, Avg reward: 9.60\n",
      "Episode: 1671, Score: 26.0, Avg reward: 9.50\n",
      "Episode: 1672, Score: 12.0, Avg reward: 9.58\n",
      "Episode: 1673, Score: 4.0, Avg reward: 9.61\n",
      "Episode: 1674, Score: 23.0, Avg reward: 9.77\n",
      "Episode: 1675, Score: 6.0, Avg reward: 9.41\n",
      "Episode: 1676, Score: 8.0, Avg reward: 9.49\n",
      "Episode: 1677, Score: 25.0, Avg reward: 9.64\n",
      "Episode: 1678, Score: 7.0, Avg reward: 9.68\n",
      "Episode: 1679, Score: 23.0, Avg reward: 9.81\n",
      "Episode: 1680, Score: 7.0, Avg reward: 9.81\n",
      "Episode: 1681, Score: 5.0, Avg reward: 9.76\n",
      "Episode: 1682, Score: 5.0, Avg reward: 9.64\n",
      "Episode: 1683, Score: 2.0, Avg reward: 9.56\n",
      "Episode: 1684, Score: 1.0, Avg reward: 9.53\n"
     ]
    },
    {
     "name": "stdout",
     "output_type": "stream",
     "text": [
      "Episode: 1685, Score: 21.0, Avg reward: 9.70\n",
      "Episode: 1686, Score: 8.0, Avg reward: 9.77\n",
      "Episode: 1687, Score: 5.0, Avg reward: 9.81\n",
      "Episode: 1688, Score: 12.0, Avg reward: 9.90\n",
      "Episode: 1689, Score: 2.0, Avg reward: 9.85\n",
      "Episode: 1690, Score: 18.0, Avg reward: 9.88\n",
      "Episode: 1691, Score: 25.0, Avg reward: 10.04\n",
      "Episode: 1692, Score: 5.0, Avg reward: 10.09\n",
      "Episode: 1693, Score: 2.0, Avg reward: 10.03\n",
      "Episode: 1694, Score: 26.0, Avg reward: 10.23\n",
      "Episode: 1695, Score: 4.0, Avg reward: 10.03\n",
      "Episode: 1696, Score: 0.0, Avg reward: 9.82\n",
      "Episode: 1697, Score: 18.0, Avg reward: 9.96\n",
      "Episode: 1698, Score: 11.0, Avg reward: 10.04\n",
      "Episode: 1699, Score: 5.0, Avg reward: 10.08\n",
      "Episode: 1700, Score: 40.0, Avg reward: 10.41\n",
      "Episode: 1701, Score: 2.0, Avg reward: 10.32\n",
      "Episode: 1702, Score: 25.0, Avg reward: 10.42\n",
      "Episode: 1703, Score: 1.0, Avg reward: 10.36\n",
      "Episode: 1704, Score: 7.0, Avg reward: 10.36\n",
      "Episode: 1705, Score: 16.0, Avg reward: 10.44\n",
      "Episode: 1706, Score: 13.0, Avg reward: 10.53\n",
      "Episode: 1707, Score: 33.0, Avg reward: 10.81\n",
      "Episode: 1708, Score: 2.0, Avg reward: 10.46\n",
      "Episode: 1709, Score: 12.0, Avg reward: 10.51\n",
      "Episode: 1710, Score: 7.0, Avg reward: 10.45\n",
      "Episode: 1711, Score: 19.0, Avg reward: 10.58\n",
      "Episode: 1712, Score: 9.0, Avg reward: 10.63\n",
      "Episode: 1713, Score: 14.0, Avg reward: 10.72\n",
      "Episode: 1714, Score: 2.0, Avg reward: 10.64\n",
      "Episode: 1715, Score: 4.0, Avg reward: 10.60\n",
      "Episode: 1716, Score: 13.0, Avg reward: 10.50\n",
      "Episode: 1717, Score: 19.0, Avg reward: 10.31\n",
      "Episode: 1718, Score: 17.0, Avg reward: 10.44\n",
      "Episode: 1719, Score: 24.0, Avg reward: 10.65\n",
      "Episode: 1720, Score: 2.0, Avg reward: 10.62\n",
      "Episode: 1721, Score: 5.0, Avg reward: 10.65\n",
      "Episode: 1722, Score: 2.0, Avg reward: 10.56\n",
      "Episode: 1723, Score: 25.0, Avg reward: 10.82\n",
      "Episode: 1724, Score: 29.0, Avg reward: 11.03\n",
      "Episode: 1725, Score: 4.0, Avg reward: 11.03\n",
      "Episode: 1726, Score: 6.0, Avg reward: 10.84\n",
      "Episode: 1727, Score: 14.0, Avg reward: 10.87\n",
      "Episode: 1728, Score: 28.0, Avg reward: 11.02\n",
      "Episode: 1729, Score: 5.0, Avg reward: 10.79\n",
      "Episode: 1730, Score: 18.0, Avg reward: 10.57\n",
      "Episode: 1731, Score: 8.0, Avg reward: 10.64\n",
      "Episode: 1732, Score: 1.0, Avg reward: 10.56\n",
      "Episode: 1733, Score: 6.0, Avg reward: 10.62\n",
      "Episode: 1734, Score: 1.0, Avg reward: 10.60\n",
      "Episode: 1735, Score: -1.0, Avg reward: 10.49\n",
      "Episode: 1736, Score: 15.0, Avg reward: 10.34\n",
      "Episode: 1737, Score: 16.0, Avg reward: 10.45\n",
      "Episode: 1738, Score: 7.0, Avg reward: 10.45\n",
      "Episode: 1739, Score: 5.0, Avg reward: 10.44\n",
      "Episode: 1740, Score: 46.0, Avg reward: 10.88\n",
      "Episode: 1741, Score: 6.0, Avg reward: 10.87\n",
      "Episode: 1742, Score: 6.0, Avg reward: 10.84\n",
      "Episode: 1743, Score: 27.0, Avg reward: 11.08\n",
      "Episode: 1744, Score: 29.0, Avg reward: 11.15\n",
      "Episode: 1745, Score: 25.0, Avg reward: 11.35\n",
      "Episode: 1746, Score: 3.0, Avg reward: 11.17\n",
      "Episode: 1747, Score: 22.0, Avg reward: 11.32\n",
      "Episode: 1748, Score: 21.0, Avg reward: 11.46\n",
      "Episode: 1749, Score: 6.0, Avg reward: 11.40\n",
      "Episode: 1750, Score: 11.0, Avg reward: 11.32\n",
      "Episode: 1751, Score: 5.0, Avg reward: 11.35\n",
      "Episode: 1752, Score: 3.0, Avg reward: 11.33\n",
      "Episode: 1753, Score: 8.0, Avg reward: 11.26\n",
      "Episode: 1754, Score: 9.0, Avg reward: 11.27\n",
      "Episode: 1755, Score: 27.0, Avg reward: 11.48\n",
      "Episode: 1756, Score: 5.0, Avg reward: 11.53\n",
      "Episode: 1757, Score: 3.0, Avg reward: 11.54\n",
      "Episode: 1758, Score: 18.0, Avg reward: 11.42\n",
      "Episode: 1759, Score: 3.0, Avg reward: 11.41\n",
      "Episode: 1760, Score: 15.0, Avg reward: 11.53\n",
      "Episode: 1761, Score: 2.0, Avg reward: 11.56\n",
      "Episode: 1762, Score: 9.0, Avg reward: 11.63\n",
      "Episode: 1763, Score: 9.0, Avg reward: 11.71\n",
      "Episode: 1764, Score: 22.0, Avg reward: 11.75\n",
      "Episode: 1765, Score: 7.0, Avg reward: 11.81\n",
      "Episode: 1766, Score: 5.0, Avg reward: 11.83\n",
      "Episode: 1767, Score: 45.0, Avg reward: 12.25\n",
      "Episode: 1768, Score: 7.0, Avg reward: 12.29\n",
      "Episode: 1769, Score: 31.0, Avg reward: 12.42\n",
      "Episode: 1770, Score: 37.0, Avg reward: 12.63\n",
      "Episode: 1771, Score: 17.0, Avg reward: 12.54\n",
      "Episode: 1772, Score: 13.0, Avg reward: 12.55\n",
      "Episode: 1773, Score: 11.0, Avg reward: 12.62\n",
      "Episode: 1774, Score: 18.0, Avg reward: 12.57\n",
      "Episode: 1775, Score: 3.0, Avg reward: 12.54\n",
      "Episode: 1776, Score: 10.0, Avg reward: 12.56\n",
      "Episode: 1777, Score: 4.0, Avg reward: 12.35\n",
      "Episode: 1778, Score: 32.0, Avg reward: 12.60\n",
      "Episode: 1779, Score: 16.0, Avg reward: 12.53\n",
      "Episode: 1780, Score: 9.0, Avg reward: 12.55\n",
      "Episode: 1781, Score: 15.0, Avg reward: 12.65\n",
      "Episode: 1782, Score: 6.0, Avg reward: 12.66\n",
      "Episode: 1783, Score: 20.0, Avg reward: 12.84\n"
     ]
    }
   ],
   "source": [
    "networks = [TFQNetwork, PTQNetwork]\n",
    "agent = DQNAgent(state_size, action_size, network=networks[0], eps=0.0, load=True)\n",
    "\n",
    "scores = []\n",
    "scores_buffer = deque(maxlen=100)\n",
    "avg_scores = []\n",
    "num_episodes = 2500\n",
    "for ep in range(1500, num_episodes):\n",
    "    state = env.reset(True)\n",
    "    total_reward = 0\n",
    "    done = False\n",
    "    while not done:\n",
    "        action = agent.get_action(state)\n",
    "        next_state, reward, done, info = env.step(action)\n",
    "        agent.train(state, action, next_state, reward, done)\n",
    "        total_reward += reward  \n",
    "        state = next_state \n",
    "\n",
    "    scores.append(total_reward)\n",
    "    scores_buffer.append(total_reward)\n",
    "    avg_scores.append(np.mean(scores_buffer))\n",
    "    print(\"Episode: {}, Score: {}, Avg reward: {:.2f}\".format(ep, scores[-1], avg_scores[-1]))\n",
    "    \n",
    "    with open(\"./saved_models/train_{}.txt\".format(HIDDEN_SIZE), 'a+') as f:\n",
    "        f.writelines(\"Episode: {}, Score: {}, Avg reward: {:.2f}\\n\".format(ep, scores[-1], avg_scores[-1]))\n",
    "    \n",
    "    if ep % 100 == 99: agent.q_network.save_model(\"./saved_models/temp/{0}/model.tf\".format(ep))    \n",
    "    agent.q_network.save_model()"
   ]
  },
  {
   "cell_type": "code",
   "execution_count": null,
   "metadata": {},
   "outputs": [],
   "source": [
    "import re\n",
    "\n",
    "scores = []\n",
    "scores_buffer = deque(maxlen=100)\n",
    "avg_scores = []\n",
    "\n",
    "with open(\"./saved_models/train_500.txt\", 'r') as f:\n",
    "    for line in f:\n",
    "        line = line.rstrip('\\n')\n",
    "        match = re.match(\"Episode: (.*), Score: (.*),\", line)\n",
    "        if match: \n",
    "            ep = int(match.groups()[0])\n",
    "            total_reward = float(match.groups()[1])\n",
    "            scores.append(total_reward)\n",
    "            scores_buffer.append(total_reward)\n",
    "            avg_scores.append(np.mean(scores_buffer))\n",
    "            print(\"Episode: {}, Score: {}, Avg reward: {:.2f}\".format(ep, scores[-1], avg_scores[-1]))"
   ]
  },
  {
   "cell_type": "markdown",
   "metadata": {},
   "source": [
    "### 4.1 Plotting the training rewards\n",
    "\n",
    "The plot below shows the total reward from each episode (blue) and the average reward over the last 100 episodes (orange). We can see that the agent was able to reach the average reward of 13 after about 600 episodes."
   ]
  },
  {
   "cell_type": "code",
   "execution_count": 1,
   "metadata": {},
   "outputs": [
    {
     "ename": "NameError",
     "evalue": "name 'scores' is not defined",
     "output_type": "error",
     "traceback": [
      "\u001b[0;31m---------------------------------------------------------------------------\u001b[0m",
      "\u001b[0;31mNameError\u001b[0m                                 Traceback (most recent call last)",
      "\u001b[0;32m<ipython-input-1-d61bdb072c33>\u001b[0m in \u001b[0;36m<module>\u001b[0;34m()\u001b[0m\n\u001b[1;32m      2\u001b[0m \u001b[0mget_ipython\u001b[0m\u001b[0;34m(\u001b[0m\u001b[0;34m)\u001b[0m\u001b[0;34m.\u001b[0m\u001b[0mrun_line_magic\u001b[0m\u001b[0;34m(\u001b[0m\u001b[0;34m'matplotlib'\u001b[0m\u001b[0;34m,\u001b[0m \u001b[0;34m'inline'\u001b[0m\u001b[0;34m)\u001b[0m\u001b[0;34m\u001b[0m\u001b[0m\n\u001b[1;32m      3\u001b[0m \u001b[0;34m\u001b[0m\u001b[0m\n\u001b[0;32m----> 4\u001b[0;31m \u001b[0mx\u001b[0m \u001b[0;34m=\u001b[0m \u001b[0mrange\u001b[0m\u001b[0;34m(\u001b[0m\u001b[0mlen\u001b[0m\u001b[0;34m(\u001b[0m\u001b[0mscores\u001b[0m\u001b[0;34m)\u001b[0m\u001b[0;34m)\u001b[0m\u001b[0;34m\u001b[0m\u001b[0m\n\u001b[0m\u001b[1;32m      5\u001b[0m \u001b[0mplt\u001b[0m\u001b[0;34m.\u001b[0m\u001b[0mplot\u001b[0m\u001b[0;34m(\u001b[0m\u001b[0mx\u001b[0m\u001b[0;34m,\u001b[0m\u001b[0mscores\u001b[0m\u001b[0;34m,\u001b[0m \u001b[0mx\u001b[0m\u001b[0;34m,\u001b[0m\u001b[0mavg_scores\u001b[0m\u001b[0;34m)\u001b[0m\u001b[0;34m\u001b[0m\u001b[0m\n",
      "\u001b[0;31mNameError\u001b[0m: name 'scores' is not defined"
     ]
    }
   ],
   "source": [
    "import matplotlib.pyplot as plt\n",
    "%matplotlib inline\n",
    "\n",
    "x = range(len(scores))\n",
    "plt.plot(x,scores, x,avg_scores)"
   ]
  },
  {
   "cell_type": "code",
   "execution_count": 18,
   "metadata": {},
   "outputs": [
    {
     "data": {
      "text/plain": [
       "[<matplotlib.lines.Line2D at 0x7efee004ada0>,\n",
       " <matplotlib.lines.Line2D at 0x7efee004af60>]"
      ]
     },
     "execution_count": 18,
     "metadata": {},
     "output_type": "execute_result"
    },
    {
     "data": {
      "image/png": "[encoded data removed]",
      "text/plain": [
       "<matplotlib.figure.Figure at 0x7efee01164e0>"
      ]
     },
     "metadata": {
      "needs_background": "light"
     },
     "output_type": "display_data"
    }
   ],
   "source": [
    "import matplotlib.pyplot as plt\n",
    "%matplotlib inline\n",
    "\n",
    "x = range(len(scores))\n",
    "plt.plot(x,scores, x,avg_scores)"
   ]
  },
  {
   "cell_type": "markdown",
   "metadata": {},
   "source": [
    "## 5. Test the Agent\n",
    "\n",
    "The cell below creates a test agent loading the trained weights for a test run of the environment with the trained model. Change the num_episodes variable to run the simulation and calculate the average reward total over multiple episodes."
   ]
  },
  {
   "cell_type": "code",
   "execution_count": 29,
   "metadata": {},
   "outputs": [
    {
     "name": "stdout",
     "output_type": "stream",
     "text": [
      "Episode: 0, Score: 58.0\n"
     ]
    }
   ],
   "source": [
    "test_agent = DQNAgent(state_size, action_size, load=True)\n",
    "\n",
    "for ep in range(1):\n",
    "    state = env.reset(train_mode=False)\n",
    "    total_reward = 0\n",
    "    done = False\n",
    "    while not done:\n",
    "        action = test_agent.get_action(state, eps=0.0)\n",
    "        next_state, reward, done, info = env.step(action)\n",
    "        total_reward += reward  \n",
    "        state = next_state \n",
    "    print(\"Episode: {}, Score: {}\".format(ep, total_reward))"
   ]
  },
  {
   "cell_type": "markdown",
   "metadata": {},
   "source": [
    "## 6. Close the environment when finished\n",
    "When we are finished using an environment, we can close it with the function below."
   ]
  },
  {
   "cell_type": "code",
   "execution_count": 13,
   "metadata": {},
   "outputs": [],
   "source": [
    "env.close()"
   ]
  },
  {
   "cell_type": "code",
   "execution_count": null,
   "metadata": {},
   "outputs": [],
   "source": []
  }
 ],
 "metadata": {
  "anaconda-cloud": {},
  "kernelspec": {
   "display_name": "Python 3",
   "language": "python",
   "name": "python3"
  },
  "language_info": {
   "codemirror_mode": {
    "name": "ipython",
    "version": 3
   },
   "file_extension": ".py",
   "mimetype": "text/x-python",
   "name": "python",
   "nbconvert_exporter": "python",
   "pygments_lexer": "ipython3",
   "version": "3.6.3"
  }
 },
 "nbformat": 4,
 "nbformat_minor": 1
}
