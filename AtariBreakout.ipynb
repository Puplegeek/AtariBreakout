{
 "cells": [
  {
   "cell_type": "markdown",
   "metadata": {},
   "source": [
    "# Neural Networks Learn Atari Breakout\n",
    "\n",
    "This notebook contains the source code from the YouTube video [Neural Network Learns To Play Atari Breakout](url_here) and walks you through how to define a neural network in Tensorflow 2.0 and Pytorch and train it to learn to play Atari Breakout."
   ]
  },
  {
   "cell_type": "markdown",
   "metadata": {},
   "source": [
    "## 1. Install Dependencies\n",
    "\n",
    "Import the libraries that are needed for loading the Breakout Unity game ([mlagents](https://github.com/Unity-Technologies/ml-agents)), defining the Tensorflow 2.0 neural network ([tensorflow](https://www.tensorflow.org/versions/r2.0/api_docs/python/tf)) and the Pytorch version ([torch](https://pytorch.org/docs/stable/index.html)). Note that the ML-Agents library requires [Python 3.6](https://www.python.org/downloads/release/python-368/)."
   ]
  },
  {
   "cell_type": "code",
   "execution_count": 1,
   "metadata": {},
   "outputs": [],
   "source": [
    "!pip3 install -q mlagents==0.7\n",
    "!pip3 install -q tensorflow==2.0.0-alpha0\n",
    "!pip3 install -q torch==1.0.1.post2"
   ]
  },
  {
   "cell_type": "markdown",
   "metadata": {},
   "source": [
    "## 2. Load the Unity Environment\n",
    "\n",
    "The next step is to load the Breakout environment as a `UnityEnvironment` object which launches and begins communication with the Unity game executable when instantiated. The `unity_env` variable is the handle for sending agent actions to the game and receiving resulting next/terminal states and rewards at each time step."
   ]
  },
  {
   "cell_type": "code",
   "execution_count": 2,
   "metadata": {},
   "outputs": [
    {
     "name": "stderr",
     "output_type": "stream",
     "text": [
      "INFO:mlagents.envs:\n",
      "'Academy' started successfully!\n",
      "Unity Academy name: Academy\n",
      "        Number of Brains: 2\n",
      "        Number of Training Brains : 1\n",
      "        Reset Parameters :\n",
      "\t\tepisode -> 0.0\n",
      "Unity brain name: BreakoutLearning\n",
      "        Number of Visual Observations (per agent): 0\n",
      "        Vector Observation space size (per agent): 54\n",
      "        Number of stacked Vector Observation: 1\n",
      "        Vector Action space type: discrete\n",
      "        Vector Action space size (per agent): [3]\n",
      "        Vector Action descriptions: \n",
      "Unity brain name: BreakoutPlayer\n",
      "        Number of Visual Observations (per agent): 0\n",
      "        Vector Observation space size (per agent): 54\n",
      "        Number of stacked Vector Observation: 1\n",
      "        Vector Action space type: discrete\n",
      "        Vector Action space size (per agent): [3]\n",
      "        Vector Action descriptions: \n"
     ]
    }
   ],
   "source": [
    "import os\n",
    "import platform\n",
    "import numpy as np\n",
    "from mlagents.envs import UnityEnvironment\n",
    "\n",
    "unity_files = {\"Linux\": \"./env/linux/Breakout\", \"Darwin\": \"./env/mac/Breakout\", \"Windows\": \"./env/windows/Breakout\"}\n",
    "unity_file = env_names[platform.system()]\n",
    "unity_env = UnityEnvironment(file_name=unity_file)"
   ]
  },
  {
   "cell_type": "markdown",
   "metadata": {},
   "source": [
    "### 2.1 Create OpenAI Gym Wrapper for Unity Environment\n",
    "\n",
    "As most people are more familiar with the gym API of [OpenAI Gym](https://gym.openai.com/docs/) for communicating with an environment, we will create a wrapper class `GymEnvironment` that mimics the OpenAI Gym environment functions for resetting and stepping through an environment. You can also do any preprocessing of states returned from the environment or adjust the reward signal.\n",
    "\n",
    "- For more info, check out this tutorial video for [Getting Started with OpenAI Gym](https://www.youtube.com/watch?v=8MC3y7ASoPs)"
   ]
  },
  {
   "cell_type": "code",
   "execution_count": null,
   "metadata": {},
   "outputs": [],
   "source": [
    "class GymEnvironment():\n",
    "    def __init__(self, unity_env):\n",
    "        self.env = unity_env\n",
    "        self.default_brain = unity_env.brain_names[0]\n",
    "        self.observation_space_size = unity_env.brains[self.default_brain].vector_observation_space_size\n",
    "        self.action_space_size = int(unity_env.brains[self.default_brain].vector_action_space_size[0])\n",
    "        \n",
    "    def reset(self, train_mode=True):\n",
    "        self.env_info = self.env.reset(train_mode=train_mode)[self.default_brain]\n",
    "        return self.env_info.vector_observations[0]\n",
    "    \n",
    "    def step(self, action):\n",
    "        self.env_info = self.env.step(action)[self.default_brain]\n",
    "        next_state = self.env_info.vector_observations[0]\n",
    "        reward = self.env_info.rewards[0]\n",
    "        done = self.env_info.local_done[0]\n",
    "        return next_state, reward, done, self.env_info\n",
    "    \n",
    "    def close(self):\n",
    "        self.env.close()"
   ]
  },
  {
   "cell_type": "markdown",
   "metadata": {},
   "source": [
    "### 2.2 Understand the Breakout Environment\n",
    "\n",
    "We can reset the environment to be provided with an initial set of states for the agent in the environment. The `action_size` variable holds the number of actions that the agent can choose from. _states_ refer to a vector of variables corresponding to relevant aspects of the environment that the agent 'sees'.\n",
    "\n",
    "\n",
    "![AtariBreakout](./AtariBreakout.png)\n",
    "\n",
    "\n",
    "In the breakout environment, the agent is controlling a paddle at the bottom of the screen and can between 3 actions: to move it left, right or no movement. Its goal is to hit the ball to destroy all the floating bricks and prevent the ball from falling to the bottom. It will get a reward of +1 whenever the ball hits a brick and -1 for each brick remaining if the ball falls to the bottom.\n",
    "\n",
    "The state consists of 54 numbers where the first two are the ball's `x` and `y` position, the next two are the ball's `x` and `y` velocity, the next two are the paddle's `x` position and `x` velocity and the remaining 48 represent each brick's status of destroyed (0.) or remaining (1.)"
   ]
  },
  {
   "cell_type": "code",
   "execution_count": 3,
   "metadata": {},
   "outputs": [
    {
     "name": "stdout",
     "output_type": "stream",
     "text": [
      "Number of actions: 3\n",
      "States have length: 54\n",
      "States look like: [ 0.          0.         -2.77063155  5.3219924   0.          0.\n",
      "  1.          1.          1.          1.          1.          1.\n",
      "  1.          1.          1.          1.          1.          1.\n",
      "  1.          1.          1.          1.          1.          1.\n",
      "  1.          1.          1.          1.          1.          1.\n",
      "  1.          1.          1.          1.          1.          1.\n",
      "  1.          1.          1.          1.          1.          1.\n",
      "  1.          1.          1.          1.          1.          1.\n",
      "  1.          1.          1.          1.          1.          1.        ]\n"
     ]
    }
   ],
   "source": [
    "env = GymEnvironment(unity_env)\n",
    "action_size = env.action_space_size\n",
    "state_size = env.observation_space_size\n",
    "state = env.reset()\n",
    "\n",
    "print('Number of actions:', action_size)\n",
    "print('States have length:', state_size)\n",
    "print('States look like:', state)"
   ]
  },
  {
   "cell_type": "markdown",
   "metadata": {},
   "source": [
    "## 3. Define the Reinforcement Learning Components\n",
    "\n",
    "The next step is to define the components that make up the reinforcement learning algorithm. This requires defining:\n",
    "\n",
    "- **3.1** The neural network architecture to approximate the Q function.\n",
    "- **3.2** The experience replay buffer for storing and sampling batches of experience tuples.\n",
    "- **3.3** The Q-Learning agent that samples from the replay buffer and trains the neural network."
   ]
  },
  {
   "cell_type": "markdown",
   "metadata": {},
   "source": [
    "#### 3.1.0 Neural Network Hyperparameters\n",
    "\n",
    "These are the settings for the neural network that we need to tweak to suit our particular task of playing Breakout. \n",
    "- `HIDDEN_SIZE` specifies the number of nodes in each layer of the network. \n",
    "- `LEARNING_RATE` sets how much we want to update the network weights at each training step. \n",
    "- `REGULARIZER_LAMBDA` is a penalty multiplier to apply for the size of the network weights.\n",
    "- `TARGET_UPDATE_RATE` is how frequently we want to copy the local network to the target network (for double DQNs)"
   ]
  },
  {
   "cell_type": "code",
   "execution_count": 4,
   "metadata": {},
   "outputs": [],
   "source": [
    "HIDDEN_SIZE = 800\n",
    "LEARNING_RATE = 0.00002\n",
    "REGULARIZER_LAMBDA = 1e-6\n",
    "TARGET_UPDATE_RATE = 0.0004"
   ]
  },
  {
   "cell_type": "markdown",
   "metadata": {},
   "source": [
    "####  3.1.1 Tensorflow QNetwork\n",
    "\n",
    "Below is the implementation of a Deep Q Network using TensorFlow 2.0 as the backend model. The `TFModel` class defines the actual neural network architecture for approximating the Q-function and the `TFQNetwork` incorporates the neural network to define a function for retrieving the output q-values from an input state (`get_q_state`) and also a function for training the neural network (`optimize`).\n",
    "\n",
    "Resources:\n",
    "- A tutorial video on [Getting Started with Tensorflow 2.0](https://www.youtube.com/watch?v=fQCKxzHvYnw)\n",
    "- A tutorial video on [Basic Deep Q Network (DQN) in Tensorflow](https://www.youtube.com/watch?v=dpBKz1wxE_c)\n",
    "- A tutorial video on [Upgrading a DQN to a Double DQN](https://www.youtube.com/watch?v=ILDLT97FsNM)"
   ]
  },
  {
   "cell_type": "code",
   "execution_count": 5,
   "metadata": {},
   "outputs": [
    {
     "name": "stdout",
     "output_type": "stream",
     "text": [
      "Tensorflow: 2.0.0-alpha0\n"
     ]
    }
   ],
   "source": [
    "import tensorflow as tf\n",
    "print(\"Tensorflow:\", tf.__version__)\n",
    "\n",
    "class TFModel(tf.keras.Model):\n",
    "    def __init__(self, state_size, action_size):\n",
    "        super().__init__()\n",
    "        self.hidden1 = tf.keras.layers.Dense(HIDDEN_SIZE, activation=tf.nn.relu, kernel_initializer=tf.initializers.glorot_normal())\n",
    "        self.hidden2 = tf.keras.layers.Dense(HIDDEN_SIZE, activation=tf.nn.relu, kernel_initializer=tf.initializers.glorot_normal(), kernel_regularizer=tf.keras.regularizers.l2(l=REGULARIZER_LAMBDA))\n",
    "        self.q_state = tf.keras.layers.Dense(action_size, activation=None, kernel_initializer=tf.initializers.glorot_normal())\n",
    "        \n",
    "    def call(self, state):\n",
    "        hidden1 = self.hidden1(state)\n",
    "        hidden2 = self.hidden2(hidden1) + hidden1\n",
    "        q_state = self.q_state(hidden2)\n",
    "        return q_state\n",
    "    \n",
    "class TFQNetwork():\n",
    "    def __init__(self, state_size, action_size, load=False):\n",
    "        self.model_local = TFModel(state_size, action_size)\n",
    "        self.model_target = TFModel(state_size, action_size)\n",
    "        self.optimizer = tf.optimizers.Adam(learning_rate=LEARNING_RATE)\n",
    "        self.action_size = action_size\n",
    "        if load: self.load_model()\n",
    "        \n",
    "    def get_q_state(self, state, use_target=False):\n",
    "        model = self.model_local if not use_target else self.model_target\n",
    "        return model(np.array(state)).numpy()\n",
    "    \n",
    "    def get_loss(self, states, actions, q_targets):\n",
    "        actions_one_hot = tf.one_hot(actions, depth=self.action_size)\n",
    "        q_states = tf.cast(self.model_local(states), tf.float32)\n",
    "        q_states_actions = tf.reduce_sum(tf.multiply(q_states, actions_one_hot), axis=1)\n",
    "        loss = tf.reduce_sum(tf.square(q_states_actions - q_targets))\n",
    "        return loss\n",
    "    \n",
    "    def optimize(self, states, actions, q_targets):\n",
    "        loss = lambda: self.get_loss(states, actions, q_targets)\n",
    "        self.optimizer.minimize(loss=loss, var_list=self.model_local.trainable_weights)\n",
    "        self.soft_copy(self.model_local, self.model_target)\n",
    "        \n",
    "    def soft_copy(self, local, target, tau=TARGET_UPDATE_RATE):\n",
    "        new_target_vars = [t + tau*(l-t) for l,t in zip(local.get_weights(), target.get_weights())]\n",
    "        self.model_target.set_weights(new_target_vars)\n",
    "        \n",
    "    def save_model(self, filepath=\"./saved_models/tensorflow2/model.tf\"):\n",
    "        os.makedirs(os.path.dirname(filepath), exist_ok=True)\n",
    "        self.model_local.save_weights(filepath)\n",
    "        \n",
    "    def load_model(self, filepath=\"./saved_models/tensorflow2/model.tf\"):\n",
    "        if os.path.exists(filepath + \".index\"):\n",
    "            self.model_local.load_weights(filepath)\n",
    "            self.model_target.load_weights(filepath)"
   ]
  },
  {
   "cell_type": "markdown",
   "metadata": {},
   "source": [
    "#### 3.1.2 PyTorch QNetwork\n",
    "\n",
    "Below is the implementation of a QNetwork using PyTorch as the backend model. The `PTModel` class defines the actual neural network architecture for approximating the Q-function and the `PTQNetwork` is the equivalent of the `TFQNetwork` adapted for PyTorch."
   ]
  },
  {
   "cell_type": "code",
   "execution_count": 6,
   "metadata": {},
   "outputs": [
    {
     "name": "stdout",
     "output_type": "stream",
     "text": [
      "PyTorch: 1.0.1.post2\n"
     ]
    }
   ],
   "source": [
    "import torch\n",
    "print(\"PyTorch:\", torch.__version__)\n",
    "\n",
    "class PTModel(torch.nn.Module):\n",
    "    def __init__(self, state_size, action_size):\n",
    "        super().__init__()\n",
    "        self.hidden1 = torch.nn.Linear(state_size, HIDDEN_SIZE)\n",
    "        self.hidden2 = torch.nn.Linear(HIDDEN_SIZE, HIDDEN_SIZE)\n",
    "        self.q_state = torch.nn.Linear(HIDDEN_SIZE, action_size)\n",
    "        torch.nn.init.xavier_normal_(self.hidden1.weight)\n",
    "        torch.nn.init.xavier_normal_(self.hidden2.weight)\n",
    "        torch.nn.init.xavier_normal_(self.q_state.weight)\n",
    "\n",
    "    def forward(self, state):\n",
    "        hidden1 = torch.nn.functional.relu(self.hidden1(state))\n",
    "        hidden2 = torch.nn.functional.relu(self.hidden2(hidden1)) + hidden1\n",
    "        q_state = self.q_state(hidden2)\n",
    "        return q_state\n",
    "\n",
    "class PTQNetwork():\n",
    "    def __init__(self, state_size, action_size, load=False):\n",
    "        self.model_local = PTModel(state_size, action_size)\n",
    "        self.model_target = PTModel(state_size, action_size)\n",
    "        self.optimizer = torch.optim.Adam(self.model_local.parameters(), lr=LEARNING_RATE, weight_decay=REGULARIZER_LAMBDA)\n",
    "        if load: self.load_model()\n",
    "\n",
    "    def get_q_state(self, state, use_target=False):\n",
    "        model = self.model_local if not use_target else self.model_target\n",
    "        state = torch.from_numpy(np.array(state)).float()\n",
    "        return model(state).detach().numpy()\n",
    "    \n",
    "    def get_loss(self, states, actions, q_targets):\n",
    "        states = torch.from_numpy(np.vstack(states)).float()\n",
    "        actions = torch.from_numpy(np.vstack(actions)).long()\n",
    "        q_targets = torch.from_numpy(np.vstack(q_targets)).float()\n",
    "        q_states_actions = self.model_local(states).gather(1, actions)\n",
    "        loss = (q_states_actions - q_targets)**2\n",
    "        return loss.mean()\n",
    "    \n",
    "    def optimize(self, states, actions, q_targets):\n",
    "        loss = self.get_loss(states, actions, q_targets)\n",
    "        self.optimizer.zero_grad()\n",
    "        loss.backward()\n",
    "        self.optimizer.step()\n",
    "        self.soft_copy(self.model_local, self.model_target)\n",
    "        \n",
    "    def soft_copy(self, local, target, tau=TARGET_UPDATE_RATE):\n",
    "        for l,t in zip(local.parameters(), target.parameters()):\n",
    "            t.data.copy_(t.data + tau*(l.data - t.data))\n",
    "        \n",
    "    def save_model(self, filepath=\"./saved_models/pytorch/checkpoint.pth\"):\n",
    "        os.makedirs(os.path.dirname(filepath), exist_ok=True)\n",
    "        torch.save(self.model_local.state_dict(), filepath)\n",
    "        \n",
    "    def load_model(self, filepath=\"./saved_models/pytorch/checkpoint.pth\"):\n",
    "        if os.path.exists(filepath):\n",
    "            self.model_local.load_state_dict(torch.load(filepath))\n",
    "            self.model_target.load_state_dict(torch.load(filepath))"
   ]
  },
  {
   "cell_type": "markdown",
   "metadata": {},
   "source": [
    "### 3.2 Experience Replay\n",
    "\n",
    "Below is the implementation of a Replay Buffer using the `deque` collection as the rolling buffer of experience tuples. This can be sampled by specifying the sample size and then returns each individual experience type as separate lists.\n",
    "\n",
    "- Check out this tutorial video on [How Experience Replay Works](https://www.youtube.com/watch?v=lQB08wcuCeM)"
   ]
  },
  {
   "cell_type": "code",
   "execution_count": 7,
   "metadata": {},
   "outputs": [],
   "source": [
    "from collections import deque\n",
    "import random\n",
    "\n",
    "class ReplayBuffer():\n",
    "    def __init__(self, maxlen):\n",
    "        self.buffer = deque(maxlen=maxlen)\n",
    "        \n",
    "    def add(self, experience):\n",
    "        self.buffer.append(experience)\n",
    "        \n",
    "    def sample(self, batch_size):\n",
    "        sample_size = min(len(self.buffer), batch_size)\n",
    "        samples = random.choices(self.buffer, k=sample_size)\n",
    "        return map(list, zip(*samples))"
   ]
  },
  {
   "cell_type": "markdown",
   "metadata": {},
   "source": [
    "### 3.3 Q-Learning Algorithm\n",
    "\n",
    "This step implements the final AI agent that uses Deep Q Networks to learn the Bellman equation for selecting actions to take in a given state from the environment. It instantiates a QNetwork of the specified implementation (`TFQNetwork` or `PTQNetwork`) as well as the `ReplayBuffer` for experience replay.\n",
    "\n",
    "- Check out this tutorial video for [Q-Learning with the Bellman Equation](https://www.youtube.com/watch?v=wN3rxIKmMgE)"
   ]
  },
  {
   "cell_type": "markdown",
   "metadata": {},
   "source": [
    "#### 3.3.0 Q-Learning Hyperparameters\n",
    "\n",
    "Here we define the settings for the training of the agent.\n",
    "\n",
    "- `MAX_BUFFER_SIZE` sets the maximum length of the replay buffer.\n",
    "- `REPLAY_BATCH_SIZE` is how many experience tuples to sample from the buffer for each train step.\n",
    "- `DISCOUNT_RATE` is the constant _gamma_ for discounting future rewards in the Bellman Equation\n",
    "- `EPS_MAX` is the starting proportion of random to greedy actions to take\n",
    "- `EPS_MIN` is the lower limit proportion of random to greedy actions to take\n",
    "- `EPS_DECAY` is the rate at which eps decays from `EPS_MAX` to `EPS_MIN`"
   ]
  },
  {
   "cell_type": "code",
   "execution_count": 8,
   "metadata": {},
   "outputs": [],
   "source": [
    "MAX_BUFFER_SIZE = 1000000\n",
    "REPLAY_BATCH_SIZE = 32\n",
    "DISCOUNT_RATE = 0.99\n",
    "EPS_MAX = 1.0\n",
    "EPS_MIN = 0.1\n",
    "EPS_DECAY = 0.998"
   ]
  },
  {
   "cell_type": "markdown",
   "metadata": {},
   "source": [
    "#### 3.3.1 Q-Learning Agent\n",
    "\n",
    "The `get_action` function infers an action from the QNetwork from a given state using an epsilon-greedy policy for choosing a random action more often at the start of training for exploration, and then selecting the greedy action more often later in training as the network's approximation of the Q-Function (Bellman Equation) improves.\n",
    "\n",
    "The `train` function calculates the target Q-value (`q_target`) for the `reward` from the `action` taken in the given `state` and then trains the QNetwork toward that value for the input state and action."
   ]
  },
  {
   "cell_type": "code",
   "execution_count": 9,
   "metadata": {},
   "outputs": [],
   "source": [
    "class DQNAgent():\n",
    "    def __init__(self, state_size, action_size, network=TFQNetwork, eps=EPS_MAX, load=False):\n",
    "        self.state_size = state_size\n",
    "        self.action_size = action_size\n",
    "        self.q_network = network(state_size, action_size, load)\n",
    "        self.replay_buffer = ReplayBuffer(MAX_BUFFER_SIZE)\n",
    "        self.gamma = DISCOUNT_RATE\n",
    "        self.eps = eps\n",
    "\n",
    "    def get_action(self, state, eps=None):\n",
    "        eps = self.eps if eps == None else eps\n",
    "        action_greedy = np.argmax(self.q_network.get_q_state([state]))\n",
    "        action_random = np.random.randint(self.action_size)\n",
    "        action = action_random if random.random() < eps else action_greedy\n",
    "        return action\n",
    "        \n",
    "    def train(self, state, action, next_state, reward, done):\n",
    "        self.replay_buffer.add((state, action, next_state, reward, done))\n",
    "        states, actions, next_states, rewards, dones = self.replay_buffer.sample(REPLAY_BATCH_SIZE)\n",
    "        \n",
    "        next_actions = np.argmax(self.q_network.get_q_state(next_states, use_target=False), axis=1)\n",
    "        q_next_states = self.q_network.get_q_state(next_states, use_target=True)\n",
    "        q_next_states[dones] = np.zeros([self.action_size])\n",
    "        q_next_states_next_actions = q_next_states[np.arange(next_actions.shape[0]), next_actions]\n",
    "        q_targets = rewards + self.gamma * q_next_states_next_actions\n",
    "        self.q_network.optimize(states, actions, q_targets)\n",
    "\n",
    "        if done: self.eps = max(self.eps * EPS_DECAY, EPS_MIN)"
   ]
  },
  {
   "cell_type": "markdown",
   "metadata": {},
   "source": [
    "## 4. Train the Agent\n",
    "\n",
    "Below is the training loop for training the agent through a number of episodes of interacting with the environment. It keeps track of the total reward from each episode and also stores the last 100 episode rewards for calculating the average reward."
   ]
  },
  {
   "cell_type": "code",
   "execution_count": null,
   "metadata": {
    "scrolled": true
   },
   "outputs": [
    {
     "name": "stdout",
     "output_type": "stream",
     "text": [
      "Episode: 1100, Score: 16.0, Avg reward: 2.74\n",
      "Episode: 1101, Score: 26.0, Avg reward: 3.22\n",
      "Episode: 1102, Score: 34.0, Avg reward: 4.04\n",
      "Episode: 1103, Score: -30.0, Avg reward: 3.36\n",
      "Episode: 1104, Score: 32.0, Avg reward: 3.30\n",
      "Episode: 1105, Score: 46.0, Avg reward: 3.36\n",
      "Episode: 1106, Score: -2.0, Avg reward: 3.68\n",
      "Episode: 1107, Score: 46.0, Avg reward: 4.02\n",
      "Episode: 1108, Score: 10.0, Avg reward: 4.60\n",
      "Episode: 1109, Score: 14.0, Avg reward: 4.88\n",
      "Episode: 1110, Score: -18.0, Avg reward: 4.22\n",
      "Episode: 1111, Score: 18.0, Avg reward: 4.72\n",
      "Episode: 1112, Score: 48.0, Avg reward: 4.86\n",
      "Episode: 1113, Score: 46.0, Avg reward: 5.58\n",
      "Episode: 1114, Score: -18.0, Avg reward: 4.92\n",
      "Episode: 1115, Score: 48.0, Avg reward: 5.70\n",
      "Episode: 1116, Score: 40.0, Avg reward: 6.54\n",
      "Episode: 1117, Score: -2.0, Avg reward: 6.64\n",
      "Episode: 1118, Score: 20.0, Avg reward: 6.84\n",
      "Episode: 1119, Score: -2.0, Avg reward: 6.34\n",
      "Episode: 1120, Score: 48.0, Avg reward: 6.84\n",
      "Episode: 1121, Score: 48.0, Avg reward: 7.64\n",
      "Episode: 1122, Score: 40.0, Avg reward: 8.46\n",
      "Episode: 1123, Score: -34.0, Avg reward: 8.20\n",
      "Episode: 1124, Score: -38.0, Avg reward: 8.12\n",
      "Episode: 1125, Score: 34.0, Avg reward: 8.18\n",
      "Episode: 1126, Score: 2.0, Avg reward: 8.48\n",
      "Episode: 1127, Score: 34.0, Avg reward: 9.18\n",
      "Episode: 1128, Score: 48.0, Avg reward: 9.32\n",
      "Episode: 1129, Score: 12.0, Avg reward: 8.96\n",
      "Episode: 1130, Score: 42.0, Avg reward: 9.08\n",
      "Episode: 1131, Score: 26.0, Avg reward: 9.48\n",
      "Episode: 1132, Score: -38.0, Avg reward: 9.50\n",
      "Episode: 1133, Score: 0.0, Avg reward: 9.66\n",
      "Episode: 1134, Score: -48.0, Avg reward: 8.70\n",
      "Episode: 1135, Score: -4.0, Avg reward: 8.48\n",
      "Episode: 1136, Score: 42.0, Avg reward: 8.44\n",
      "Episode: 1137, Score: -28.0, Avg reward: 8.50\n",
      "Episode: 1138, Score: -12.0, Avg reward: 8.42\n",
      "Episode: 1139, Score: 10.0, Avg reward: 8.22\n",
      "Episode: 1140, Score: 38.0, Avg reward: 8.64\n",
      "Episode: 1141, Score: 40.0, Avg reward: 9.10\n",
      "Episode: 1142, Score: -18.0, Avg reward: 9.32\n",
      "Episode: 1143, Score: 40.0, Avg reward: 9.30\n",
      "Episode: 1144, Score: -38.0, Avg reward: 9.34\n",
      "Episode: 1145, Score: -44.0, Avg reward: 8.58\n",
      "Episode: 1146, Score: 28.0, Avg reward: 9.18\n",
      "Episode: 1147, Score: 48.0, Avg reward: 9.44\n",
      "Episode: 1148, Score: 32.0, Avg reward: 10.18\n",
      "Episode: 1149, Score: 44.0, Avg reward: 10.16\n",
      "Episode: 1150, Score: -38.0, Avg reward: 9.44\n",
      "Episode: 1151, Score: -30.0, Avg reward: 8.92\n",
      "Episode: 1152, Score: -30.0, Avg reward: 8.92\n",
      "Episode: 1153, Score: -34.0, Avg reward: 8.32\n",
      "Episode: 1154, Score: 36.0, Avg reward: 9.10\n",
      "Episode: 1155, Score: 28.0, Avg reward: 9.04\n",
      "Episode: 1156, Score: 22.0, Avg reward: 8.82\n",
      "Episode: 1157, Score: -42.0, Avg reward: 8.10\n",
      "Episode: 1158, Score: 36.0, Avg reward: 8.90\n",
      "Episode: 1159, Score: 46.0, Avg reward: 9.76\n",
      "Episode: 1160, Score: 42.0, Avg reward: 9.88\n",
      "Episode: 1161, Score: -42.0, Avg reward: 9.02\n",
      "Episode: 1162, Score: -22.0, Avg reward: 8.92\n",
      "Episode: 1163, Score: 40.0, Avg reward: 9.04\n",
      "Episode: 1164, Score: -42.0, Avg reward: 8.84\n",
      "Episode: 1165, Score: 10.0, Avg reward: 8.90\n",
      "Episode: 1166, Score: 12.0, Avg reward: 8.94\n",
      "Episode: 1167, Score: 44.0, Avg reward: 9.62\n",
      "Episode: 1168, Score: -16.0, Avg reward: 9.24\n",
      "Episode: 1169, Score: 48.0, Avg reward: 9.76\n",
      "Episode: 1170, Score: -30.0, Avg reward: 9.50\n",
      "Episode: 1171, Score: 42.0, Avg reward: 9.54\n",
      "Episode: 1172, Score: 38.0, Avg reward: 9.58\n",
      "Episode: 1173, Score: 38.0, Avg reward: 9.74\n",
      "Episode: 1174, Score: 48.0, Avg reward: 9.98\n",
      "Episode: 1175, Score: 18.0, Avg reward: 10.54\n",
      "Episode: 1176, Score: 48.0, Avg reward: 10.64\n",
      "Episode: 1177, Score: 38.0, Avg reward: 10.60\n",
      "Episode: 1178, Score: -30.0, Avg reward: 10.06\n",
      "Episode: 1179, Score: 0.0, Avg reward: 9.60\n",
      "Episode: 1180, Score: 48.0, Avg reward: 9.66\n",
      "Episode: 1181, Score: 32.0, Avg reward: 9.58\n",
      "Episode: 1182, Score: 38.0, Avg reward: 10.40\n",
      "Episode: 1183, Score: 42.0, Avg reward: 11.30\n",
      "Episode: 1184, Score: 48.0, Avg reward: 12.12\n",
      "Episode: 1185, Score: 8.0, Avg reward: 12.66\n"
     ]
    }
   ],
   "source": [
    "networks = [TFQNetwork, PTQNetwork]\n",
    "agent = DQNAgent(state_size, action_size, network=networks[0], eps=1.0, load=False)\n",
    "\n",
    "scores = []\n",
    "scores_buffer = deque(maxlen=100)\n",
    "avg_scores = []\n",
    "num_episodes = 2000\n",
    "for ep in range(num_episodes):\n",
    "    state = env.reset()\n",
    "    total_reward = 0\n",
    "    done = False\n",
    "    while not done:\n",
    "        action = agent.get_action(state)\n",
    "        next_state, reward, done, info = env.step(action)\n",
    "        agent.train(state, action, next_state, reward, done)\n",
    "        total_reward += reward  \n",
    "        state = next_state \n",
    "\n",
    "    scores.append(total_reward)\n",
    "    scores_buffer.append(total_reward)\n",
    "    avg_scores.append(np.mean(scores_buffer))\n",
    "    if avg_scores[-1] >= np.max(avg_scores): agent.q_network.save_model()\n",
    "    print(\"Episode: {}, Score: {}, Avg reward: {:.2f}\".format(ep, scores[-1], avg_scores[-1]))   "
   ]
  },
  {
   "cell_type": "markdown",
   "metadata": {},
   "source": [
    "### 4.1 Plotting the training rewards\n",
    "\n",
    "The plot below shows the total reward from each episode (blue) and the average reward over the last 100 episodes (orange). We can see that the agent was able to reach the average reward of 13 after about 600 episodes."
   ]
  },
  {
   "cell_type": "code",
   "execution_count": 13,
   "metadata": {},
   "outputs": [
    {
     "data": {
      "text/plain": [
       "[<matplotlib.lines.Line2D at 0x7f258b3c0a58>,\n",
       " <matplotlib.lines.Line2D at 0x7f258b3c0cc0>]"
      ]
     },
     "execution_count": 13,
     "metadata": {},
     "output_type": "execute_result"
    },
    {
     "data": {
      "image/png": "[encoded data removed]",
      "text/plain": [
       "<matplotlib.figure.Figure at 0x7f259e4f4e10>"
      ]
     },
     "metadata": {
      "needs_background": "light"
     },
     "output_type": "display_data"
    }
   ],
   "source": [
    "import matplotlib.pyplot as plt\n",
    "%matplotlib inline\n",
    "\n",
    "x = range(len(scores))\n",
    "plt.plot(x,scores, x,avg_scores)"
   ]
  },
  {
   "cell_type": "markdown",
   "metadata": {},
   "source": [
    "## 5. Test the Agent\n",
    "\n",
    "The cell below creates a test agent loading the trained weights for a test run of the environment with the trained model. Change the num_episodes variable to run the simulation and calculate the average reward total over multiple episodes."
   ]
  },
  {
   "cell_type": "code",
   "execution_count": 14,
   "metadata": {},
   "outputs": [
    {
     "name": "stdout",
     "output_type": "stream",
     "text": [
      "Episode: 0, Score: 18\n"
     ]
    }
   ],
   "source": [
    "test_agent = DQNAgent(state_size, action_size, load=True)\n",
    "\n",
    "for ep in range(1):\n",
    "    state = env.reset(train_mode=False)\n",
    "    total_reward = 0\n",
    "    done = False\n",
    "    while not done:\n",
    "        action = test_agent.get_action(state, eps=0.0)\n",
    "        next_state, reward, done, info = env.step(action)\n",
    "        total_reward += reward  \n",
    "        state = next_state \n",
    "    print(\"Episode: {}, Score: {}\".format(ep, total_reward))"
   ]
  },
  {
   "cell_type": "markdown",
   "metadata": {},
   "source": [
    "## 6. Close the environment when finished\n",
    "When we are finished using an environment, we can close it with the function below."
   ]
  },
  {
   "cell_type": "code",
   "execution_count": 33,
   "metadata": {},
   "outputs": [],
   "source": [
    "env.close()"
   ]
  }
 ],
 "metadata": {
  "anaconda-cloud": {},
  "kernelspec": {
   "display_name": "Python 3",
   "language": "python",
   "name": "python3"
  },
  "language_info": {
   "codemirror_mode": {
    "name": "ipython",
    "version": 3
   },
   "file_extension": ".py",
   "mimetype": "text/x-python",
   "name": "python",
   "nbconvert_exporter": "python",
   "pygments_lexer": "ipython3",
   "version": "3.6.5"
  }
 },
 "nbformat": 4,
 "nbformat_minor": 1
}
