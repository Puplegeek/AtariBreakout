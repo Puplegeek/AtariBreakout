{
 "cells": [
  {
   "cell_type": "markdown",
   "metadata": {},
   "source": [
    "# Neural Networks Learn Atari Breakout\n",
    "\n",
    "This notebook walks you through the setup "
   ]
  },
  {
   "cell_type": "markdown",
   "metadata": {},
   "source": [
    "## 1. Install Dependencies\n",
    "\n",
    "Import the libraries that are needed for loading the environment. The following loads the necessary dependencies and checks the Python version (at runtime). ML-Agents Toolkit (v0.3 onwards) requires Python 3."
   ]
  },
  {
   "cell_type": "code",
   "execution_count": null,
   "metadata": {},
   "outputs": [],
   "source": [
    "!pip3 install -q ./ml-agents/ml-agents || !pip install -q ./ml-agents/ml-agents/\n",
    "!pip3 install -q tensorflow==2.0.0-alpha0 || !pip install -q tensorflow==2.0.0-alpha0\n",
    "# !pip3 install -q torch==1.0.1.post2\n",
    "# !pip install -q ./ml-agents/ml-agents/\n",
    "# !pip install -q tensorflow==2.0.0-alpha0"
   ]
  },
  {
   "cell_type": "markdown",
   "metadata": {},
   "source": [
    "## 2. Load the environment\n",
    "\n",
    "`UnityEnvironment` launches and begins communication with the environment when instantiated.\n",
    "\n",
    "Environments contain _brains_ which are responsible for deciding the actions of their associated _agents_. Here we check for the first brain available, and set it as the default brain we will be controlling from Python."
   ]
  },
  {
   "cell_type": "code",
   "execution_count": 38,
   "metadata": {},
   "outputs": [
    {
     "name": "stderr",
     "output_type": "stream",
     "text": [
      "I0413 23:51:00.283715 4779668928 environment.py:93] \n",
      "'Academy' started successfully!\n",
      "Unity Academy name: Academy\n",
      "        Number of Brains: 2\n",
      "        Number of Training Brains : 1\n",
      "        Reset Parameters :\n",
      "\t\tepisode -> 0.0\n",
      "Unity brain name: BreakoutLearning\n",
      "        Number of Visual Observations (per agent): 0\n",
      "        Vector Observation space size (per agent): 54\n",
      "        Number of stacked Vector Observation: 1\n",
      "        Vector Action space type: discrete\n",
      "        Vector Action space size (per agent): [3]\n",
      "        Vector Action descriptions: \n",
      "Unity brain name: BreakoutPlayer\n",
      "        Number of Visual Observations (per agent): 0\n",
      "        Vector Observation space size (per agent): 54\n",
      "        Number of stacked Vector Observation: 1\n",
      "        Vector Action space type: discrete\n",
      "        Vector Action space size (per agent): [3]\n",
      "        Vector Action descriptions: \n"
     ]
    }
   ],
   "source": [
    "import os\n",
    "import platform\n",
    "import numpy as np\n",
    "from mlagents.envs import UnityEnvironment\n",
    "\n",
    "env_names = {\"Linux\": \"./env/linux/Breakout\", \"Darwin\": \"./env/mac/Breakout\", \"Windows\": \"./env/windows/Breakout\"}\n",
    "env_name = env_names[platform.system()]\n",
    "unity_env = UnityEnvironment(file_name=env_name)"
   ]
  },
  {
   "cell_type": "markdown",
   "metadata": {},
   "source": [
    "### 2.1 Examine the observation and state spaces\n",
    "\n",
    "We can reset the environment to be provided with an initial set of observations and states for all the agents within the environment. In ML-Agents, _states_ refer to a vector of variables corresponding to relevant aspects of the environment for an agent. Likewise, _observations_ refer to a set of relevant pixel-wise visuals for an agent.\n",
    "\n",
    "In this environment, a double-jointed arm can move to target locations. A reward of +0.1 is provided for each step that the agent's hand is in the goal location. Thus, the goal of your agent is to maintain its position at the target location for as many time steps as possible.\n",
    "\n",
    "The observation space consists of 33 variables corresponding to position, rotation, velocity, and angular velocities of the arm. Each action is a vector with four numbers, corresponding to torque applicable to two joints. Every entry in the action vector must be a number between -1 and 1.\n",
    "\n",
    "Run the code cell below to print some information about the environment."
   ]
  },
  {
   "cell_type": "code",
   "execution_count": 39,
   "metadata": {},
   "outputs": [
    {
     "name": "stdout",
     "output_type": "stream",
     "text": [
      "Number of actions: 3\n",
      "States have length: 54\n",
      "States look like: [ 0.          0.         -0.46177194  0.88699871  0.          0.\n",
      "  1.          1.          1.          1.          1.          1.\n",
      "  1.          1.          1.          1.          1.          1.\n",
      "  1.          1.          1.          1.          1.          1.\n",
      "  1.          1.          1.          1.          1.          1.\n",
      "  1.          1.          1.          1.          1.          1.\n",
      "  1.          1.          1.          1.          1.          1.\n",
      "  1.          1.          1.          1.          1.          1.\n",
      "  1.          1.          1.          1.          1.          1.        ]\n"
     ]
    }
   ],
   "source": [
    "class GymEnv():\n",
    "    def __init__(self, unity_env):\n",
    "        self.env = unity_env\n",
    "        self.default_brain = unity_env.brain_names[0]\n",
    "        self.observation_space_size = unity_env.brains[self.default_brain].vector_observation_space_size\n",
    "        self.action_space_size = int(unity_env.brains[self.default_brain].vector_action_space_size[0])\n",
    "        \n",
    "    def reset(self, train_mode=True, episode=None):\n",
    "        config = {\"episode\": episode} if episode != None else None\n",
    "        self.env_info = self.env.reset(train_mode=train_mode, config=config)[self.default_brain]\n",
    "        return self.env_info.vector_observations[0]\n",
    "    \n",
    "    def step(self, action):\n",
    "        self.env_info = self.env.step(action)[self.default_brain]\n",
    "        next_state = self.env_info.vector_observations[0]\n",
    "        reward = self.env_info.rewards[0]\n",
    "        done = self.env_info.local_done[0]\n",
    "        return next_state, reward, done, self.env_info\n",
    "    \n",
    "    def close(self):\n",
    "        self.env.close()\n",
    "        \n",
    "env = GymEnv(unity_env)\n",
    "action_size = env.action_space_size\n",
    "state_size = env.observation_space_size\n",
    "state = env.reset()\n",
    "\n",
    "print('Number of actions:', action_size)\n",
    "print('States have length:', state_size)\n",
    "print('States look like:', state)"
   ]
  },
  {
   "cell_type": "markdown",
   "metadata": {},
   "source": [
    "## 3. Define the Reinforcement Learning Components\n",
    "\n",
    "The next step is to define the components that make up the reinforcement learning algorithm. This requires defining:\n",
    "\n",
    "- **3.1** The neural network architecture to approximate the Q function.\n",
    "- **3.2** The experience replay buffer for storing and sampling batches of experience tuples.\n",
    "- **3.3** The Q-Learning agent that samples from the replay buffer and trains the neural network."
   ]
  },
  {
   "cell_type": "markdown",
   "metadata": {},
   "source": [
    "#### 3.1.0 Neural Network Hyperparameters"
   ]
  },
  {
   "cell_type": "code",
   "execution_count": 30,
   "metadata": {},
   "outputs": [],
   "source": [
    "HIDDEN_SIZE = 500\n",
    "LEARNING_RATE = 0.0001\n",
    "REGULARIZER_LAMBDA = 1e-6\n",
    "TARGET_UPDATE_RATE = 1e-3"
   ]
  },
  {
   "cell_type": "markdown",
   "metadata": {},
   "source": [
    "####  3.1.1 Tensorflow QNetwork\n",
    "\n",
    "Below is the implementation of a QNetwork using tensorflow as the backend model. This contains a tensorflow session and after initially building the network graph, it is trained by running the optimizer with the state, action and q_target values for training."
   ]
  },
  {
   "cell_type": "code",
   "execution_count": 31,
   "metadata": {},
   "outputs": [
    {
     "name": "stdout",
     "output_type": "stream",
     "text": [
      "Tensorflow: 2.0.0-alpha0\n"
     ]
    }
   ],
   "source": [
    "import tensorflow as tf\n",
    "print(\"Tensorflow:\", tf.__version__)\n",
    "\n",
    "class TFModel(tf.keras.Model):\n",
    "    def __init__(self, state_size, action_size):\n",
    "        super().__init__()\n",
    "        self.hidden1 = tf.keras.layers.Dense(HIDDEN_SIZE, activation=tf.nn.relu, kernel_initializer=tf.initializers.glorot_normal())\n",
    "        self.hidden2 = tf.keras.layers.Dense(HIDDEN_SIZE, activation=tf.nn.relu, kernel_initializer=tf.initializers.glorot_normal(), kernel_regularizer=tf.keras.regularizers.l2(l=REGULARIZER_LAMBDA))\n",
    "        self.q_state = tf.keras.layers.Dense(action_size, activation=None, kernel_initializer=tf.initializers.glorot_normal())\n",
    "        \n",
    "    def call(self, state):\n",
    "        hidden1 = self.hidden1(state)\n",
    "        hidden2 = self.hidden2(hidden1) + hidden1\n",
    "        q_state = self.q_state(hidden2)\n",
    "        return q_state\n",
    "    \n",
    "class TFQNetwork():\n",
    "    def __init__(self, state_size, action_size, load=False):\n",
    "        self.model_local = TFModel(state_size, action_size)\n",
    "        self.model_target = TFModel(state_size, action_size)\n",
    "        self.optimizer = tf.optimizers.Adam(learning_rate=LEARNING_RATE)\n",
    "        self.action_size = action_size\n",
    "        if load: self.load_model()\n",
    "        \n",
    "    def get_q_state(self, state, use_target=False):\n",
    "        model = self.model_local if not use_target else self.model_target\n",
    "        return model(np.array(state)).numpy()\n",
    "    \n",
    "    def get_loss(self, states, actions, q_targets):\n",
    "        actions_one_hot = tf.one_hot(actions, depth=self.action_size)\n",
    "        q_states = tf.cast(self.model_local(states), tf.float32)\n",
    "        q_states_actions = tf.reduce_sum(tf.multiply(q_states, actions_one_hot), axis=1)\n",
    "        loss = tf.reduce_sum(tf.square(q_states_actions - q_targets))\n",
    "        return loss\n",
    "    \n",
    "    def optimize(self, states, actions, q_targets):\n",
    "        loss = lambda: self.get_loss(states, actions, q_targets)\n",
    "        self.optimizer.minimize(loss=loss, var_list=self.model_local.trainable_weights)\n",
    "        self.soft_copy(self.model_local, self.model_target)\n",
    "        \n",
    "    def soft_copy(self, local, target, tau=TARGET_UPDATE_RATE):\n",
    "        new_target_vars = [t + tau*(l-t) for l,t in zip(local.get_weights(), target.get_weights())]\n",
    "        self.model_target.set_weights(new_target_vars)\n",
    "        \n",
    "    def save_model(self, filepath=\"./saved_models/tensorflow2/model.tf\"):\n",
    "        os.makedirs(os.path.dirname(filepath), exist_ok=True)\n",
    "        self.model_local.save_weights(filepath)\n",
    "        \n",
    "    def load_model(self, filepath=\"./saved_models/tensorflow2/model.tf\"):\n",
    "        if os.path.exists(filepath + \".index\"):\n",
    "            self.model_local.load_weights(filepath)\n",
    "            self.model_target.load_weights(filepath)"
   ]
  },
  {
   "cell_type": "markdown",
   "metadata": {},
   "source": [
    "#### 3.1.2 PyTorch QNetwork\n",
    "\n",
    "Below is the implementation of a QNetwork using pytorch as the backend model. This involves first defining a Model class which subclasses the pytorch nn.Module class and then defines the network graph which can be run with the forward function.\n",
    "\n",
    "Then the Model is included in an enclosing PTQNetwork class which trains the model by taking in the states and running the Model class to get the q values which are then indexed by the actions and then the gradients are calculated from the MSE loss between the predicted q value and the q_target."
   ]
  },
  {
   "cell_type": "code",
   "execution_count": 32,
   "metadata": {},
   "outputs": [
    {
     "name": "stdout",
     "output_type": "stream",
     "text": [
      "PyTorch: 1.0.1.post2\n"
     ]
    }
   ],
   "source": [
    "import torch\n",
    "print(\"PyTorch:\", torch.__version__)\n",
    "\n",
    "class PTModel(torch.nn.Module):\n",
    "    def __init__(self, state_size, action_size):\n",
    "        super().__init__()\n",
    "        self.hidden1 = torch.nn.Linear(state_size, HIDDEN_SIZE)\n",
    "        self.hidden2 = torch.nn.Linear(HIDDEN_SIZE, HIDDEN_SIZE)\n",
    "        self.q_state = torch.nn.Linear(HIDDEN_SIZE, action_size)\n",
    "        torch.nn.init.xavier_normal_(self.hidden1.weight)\n",
    "        torch.nn.init.xavier_normal_(self.hidden2.weight)\n",
    "        torch.nn.init.xavier_normal_(self.q_state.weight)\n",
    "\n",
    "    def forward(self, state):\n",
    "        hidden1 = torch.nn.functional.relu(self.hidden1(state))\n",
    "        hidden2 = torch.nn.functional.relu(self.hidden2(hidden1)) + hidden1\n",
    "        q_state = self.q_state(hidden2)\n",
    "        return q_state\n",
    "\n",
    "class PTQNetwork():\n",
    "    def __init__(self, state_size, action_size, load=False):\n",
    "        self.model_local = PTModel(state_size, action_size)\n",
    "        self.model_target = PTModel(state_size, action_size)\n",
    "        self.optimizer = torch.optim.Adam(self.model_local.parameters(), lr=LEARNING_RATE, weight_decay=REGULARIZER_LAMBDA)\n",
    "        if load: self.load_model()\n",
    "\n",
    "    def get_q_state(self, state, use_target=False):\n",
    "        model = self.model_local if not use_target else self.model_target\n",
    "        state = torch.from_numpy(np.array(state)).float()\n",
    "        return model(state).detach().numpy()\n",
    "    \n",
    "    def get_loss(self, states, actions, q_targets):\n",
    "        states = torch.from_numpy(np.vstack(states)).float()\n",
    "        actions = torch.from_numpy(np.vstack(actions)).long()\n",
    "        q_targets = torch.from_numpy(np.vstack(q_targets)).float()\n",
    "        q_states_actions = self.model_local(states).gather(1, actions)\n",
    "        loss = (q_states_actions - q_targets)**2\n",
    "        return loss.mean()\n",
    "    \n",
    "    def optimize(self, states, actions, q_targets):\n",
    "        loss = self.get_loss(states, actions, q_targets)\n",
    "        self.optimizer.zero_grad()\n",
    "        loss.backward()\n",
    "        self.optimizer.step()\n",
    "        self.soft_copy(self.model_local, self.model_target)\n",
    "        \n",
    "    def soft_copy(self, local, target, tau=TARGET_UPDATE_RATE):\n",
    "        for l,t in zip(local.parameters(), target.parameters()):\n",
    "            t.data.copy_(t.data + tau*(l.data - t.data))\n",
    "        \n",
    "    def save_model(self, filepath=\"./saved_models/pytorch/checkpoint.pth\"):\n",
    "        os.makedirs(os.path.dirname(filepath), exist_ok=True)\n",
    "        torch.save(self.model_local.state_dict(), filepath)\n",
    "        \n",
    "    def load_model(self, filepath=\"./saved_models/pytorch/checkpoint.pth\"):\n",
    "        if os.path.exists(filepath):\n",
    "            self.model_local.load_state_dict(torch.load(filepath))\n",
    "            self.model_target.load_state_dict(torch.load(filepath))"
   ]
  },
  {
   "cell_type": "markdown",
   "metadata": {},
   "source": [
    "### 3.2 Experience Replay\n",
    "\n",
    "Below is the implementation of a Replay Buffer using the deque collection as the rolling buffer of experience tuples. This can be sampled by specifying the sample size and then returns each individual experience type as separate lists."
   ]
  },
  {
   "cell_type": "code",
   "execution_count": 33,
   "metadata": {},
   "outputs": [],
   "source": [
    "from collections import deque\n",
    "import random\n",
    "\n",
    "class ReplayBuffer():\n",
    "    def __init__(self, maxlen):\n",
    "        self.buffer = deque(maxlen=maxlen)\n",
    "        \n",
    "    def add(self, experience):\n",
    "        self.buffer.append(experience)\n",
    "        \n",
    "    def sample(self, batch_size):\n",
    "        sample_size = min(len(self.buffer), batch_size)\n",
    "        samples = random.choices(self.buffer, k=sample_size)\n",
    "        return map(list, zip(*samples))"
   ]
  },
  {
   "cell_type": "markdown",
   "metadata": {},
   "source": [
    "### 3.3 Q-Learning Algorithm\n",
    "\n",
    "Below is the implementation of the agent that uses Deep Q Networks to learn the Bellman equation for selecting actions to take in a given state from the environment. It selects an action from an epsilon-greedy policy starting with eps = 1.0 which decreases as the network is trained."
   ]
  },
  {
   "cell_type": "markdown",
   "metadata": {},
   "source": [
    "#### 3.3.0 Q-Learning Hyperparameters"
   ]
  },
  {
   "cell_type": "code",
   "execution_count": 34,
   "metadata": {},
   "outputs": [],
   "source": [
    "MAX_BUFFER_SIZE = 1000000\n",
    "REPLAY_BATCH_SIZE = 32\n",
    "DISCOUNT_RATE = 0.99\n",
    "EPS_MAX = 1.0\n",
    "EPS_MIN = 0.1\n",
    "EPS_DECAY = 0.998"
   ]
  },
  {
   "cell_type": "markdown",
   "metadata": {},
   "source": [
    "#### 3.3.1 Q-Learning Agent"
   ]
  },
  {
   "cell_type": "code",
   "execution_count": 35,
   "metadata": {},
   "outputs": [],
   "source": [
    "class DQNAgent():\n",
    "    def __init__(self, state_size, action_size, network=TFQNetwork, eps=EPS_MAX, load=False):\n",
    "        self.state_size = state_size\n",
    "        self.action_size = action_size\n",
    "        self.q_network = network(state_size, action_size, load)\n",
    "        self.replay_buffer = ReplayBuffer(MAX_BUFFER_SIZE)\n",
    "        self.eps = eps\n",
    "        self.gamma = DISCOUNT_RATE\n",
    "\n",
    "    def get_action(self, state, eps=None):\n",
    "        eps = self.eps if eps == None else eps\n",
    "        action_greedy = np.argmax(self.q_network.get_q_state([state]))\n",
    "        action_random = np.random.randint(self.action_size)\n",
    "        action = action_random if random.random() < eps else action_greedy\n",
    "        return action\n",
    "        \n",
    "    def train(self, state, action, next_state, reward, done):\n",
    "        self.replay_buffer.add((state, action, next_state, reward, done))\n",
    "        states, actions, next_states, rewards, dones = self.replay_buffer.sample(REPLAY_BATCH_SIZE)\n",
    "        \n",
    "        next_actions = np.argmax(self.q_network.get_q_state(next_states, use_target=False), axis=1)\n",
    "        q_next_states = self.q_network.get_q_state(next_states, use_target=True)\n",
    "        q_next_states[dones] = np.zeros([self.action_size])\n",
    "        q_next_states_next_actions = q_next_states[np.arange(next_actions.shape[0]), next_actions]\n",
    "        q_targets = rewards + self.gamma * q_next_states_next_actions\n",
    "        self.q_network.optimize(states, actions, q_targets)\n",
    "\n",
    "        if done: self.eps = max(self.eps * EPS_DECAY, EPS_MIN)"
   ]
  },
  {
   "cell_type": "markdown",
   "metadata": {},
   "source": [
    "## 4. Train the Agent\n",
    "\n",
    "Below is the training loop for training the agent through a number of episodes of interacting with the environment. It keeps track of the total reward from each episode and also stores the last 100 episode rewards for calculating the average reward for checking when the environment was solved."
   ]
  },
  {
   "cell_type": "code",
   "execution_count": null,
   "metadata": {
    "scrolled": true
   },
   "outputs": [
    {
     "name": "stdout",
     "output_type": "stream",
     "text": [
      "Episode: 0, Score: -1.0, Avg reward: -1.00\n",
      "Episode: 1, Score: 0.0, Avg reward: -0.50\n",
      "Episode: 2, Score: 2.0, Avg reward: 0.33\n",
      "Episode: 3, Score: 10.0, Avg reward: 2.75\n",
      "Episode: 4, Score: 3.0, Avg reward: 2.80\n",
      "Episode: 5, Score: 0.0, Avg reward: 2.33\n",
      "Episode: 6, Score: 5.0, Avg reward: 2.71\n",
      "Episode: 7, Score: 0.0, Avg reward: 2.38\n",
      "Episode: 8, Score: 0.0, Avg reward: 2.11\n",
      "Episode: 9, Score: 2.0, Avg reward: 2.10\n",
      "Episode: 10, Score: -1.0, Avg reward: 1.82\n",
      "Episode: 11, Score: 0.0, Avg reward: 1.67\n",
      "Episode: 12, Score: 0.0, Avg reward: 1.54\n",
      "Episode: 13, Score: 1.0, Avg reward: 1.50\n",
      "Episode: 14, Score: 0.0, Avg reward: 1.40\n",
      "Episode: 15, Score: 4.0, Avg reward: 1.56\n",
      "Episode: 16, Score: 1.0, Avg reward: 1.53\n",
      "Episode: 17, Score: 5.0, Avg reward: 1.72\n",
      "Episode: 18, Score: -1.0, Avg reward: 1.58\n",
      "Episode: 19, Score: -1.0, Avg reward: 1.45\n",
      "Episode: 20, Score: 0.0, Avg reward: 1.38\n",
      "Episode: 21, Score: 0.0, Avg reward: 1.32\n",
      "Episode: 22, Score: 4.0, Avg reward: 1.43\n",
      "Episode: 23, Score: 2.0, Avg reward: 1.46\n",
      "Episode: 24, Score: -1.0, Avg reward: 1.36\n",
      "Episode: 25, Score: 0.0, Avg reward: 1.31\n",
      "Episode: 26, Score: -1.0, Avg reward: 1.22\n",
      "Episode: 27, Score: 4.0, Avg reward: 1.32\n",
      "Episode: 28, Score: 1.0, Avg reward: 1.31\n",
      "Episode: 29, Score: 9.0, Avg reward: 1.57\n",
      "Episode: 30, Score: 1.0, Avg reward: 1.55\n",
      "Episode: 31, Score: 1.0, Avg reward: 1.53\n",
      "Episode: 32, Score: 0.0, Avg reward: 1.48\n",
      "Episode: 33, Score: 1.0, Avg reward: 1.47\n",
      "Episode: 34, Score: -1.0, Avg reward: 1.40\n",
      "Episode: 35, Score: 0.0, Avg reward: 1.36\n",
      "Episode: 36, Score: -1.0, Avg reward: 1.30\n",
      "Episode: 37, Score: 0.0, Avg reward: 1.26\n",
      "Episode: 38, Score: 0.0, Avg reward: 1.23\n",
      "Episode: 39, Score: -1.0, Avg reward: 1.18\n",
      "Episode: 40, Score: 1.0, Avg reward: 1.17\n",
      "Episode: 41, Score: 0.0, Avg reward: 1.14\n",
      "Episode: 42, Score: 0.0, Avg reward: 1.12\n",
      "Episode: 43, Score: -1.0, Avg reward: 1.07\n",
      "Episode: 44, Score: 0.0, Avg reward: 1.04\n",
      "Episode: 45, Score: -1.0, Avg reward: 1.00\n",
      "Episode: 46, Score: 0.0, Avg reward: 0.98\n",
      "Episode: 47, Score: 1.0, Avg reward: 0.98\n",
      "Episode: 48, Score: 0.0, Avg reward: 0.96\n",
      "Episode: 49, Score: -1.0, Avg reward: 0.92\n",
      "Episode: 50, Score: 7.0, Avg reward: 1.04\n",
      "Episode: 51, Score: 1.0, Avg reward: 1.04\n",
      "Episode: 52, Score: 0.0, Avg reward: 1.02\n",
      "Episode: 53, Score: 0.0, Avg reward: 1.00\n",
      "Episode: 54, Score: 0.0, Avg reward: 0.98\n",
      "Episode: 55, Score: 0.0, Avg reward: 0.96\n",
      "Episode: 56, Score: 0.0, Avg reward: 0.95\n",
      "Episode: 57, Score: 1.0, Avg reward: 0.95\n",
      "Episode: 58, Score: 7.0, Avg reward: 1.05\n",
      "Episode: 59, Score: 0.0, Avg reward: 1.03\n",
      "Episode: 60, Score: -1.0, Avg reward: 1.00\n",
      "Episode: 61, Score: 1.0, Avg reward: 1.00\n",
      "Episode: 62, Score: 0.0, Avg reward: 0.98\n",
      "Episode: 63, Score: 0.0, Avg reward: 0.97\n",
      "Episode: 64, Score: 3.0, Avg reward: 1.00\n",
      "Episode: 65, Score: 0.0, Avg reward: 0.98\n",
      "Episode: 66, Score: 3.0, Avg reward: 1.01\n",
      "Episode: 67, Score: 0.0, Avg reward: 1.00\n",
      "Episode: 68, Score: 0.0, Avg reward: 0.99\n",
      "Episode: 69, Score: 0.0, Avg reward: 0.97\n",
      "Episode: 70, Score: 4.0, Avg reward: 1.01\n",
      "Episode: 71, Score: 0.0, Avg reward: 1.00\n",
      "Episode: 72, Score: 3.0, Avg reward: 1.03\n",
      "Episode: 73, Score: 0.0, Avg reward: 1.01\n",
      "Episode: 74, Score: 1.0, Avg reward: 1.01\n",
      "Episode: 75, Score: 2.0, Avg reward: 1.03\n",
      "Episode: 76, Score: 1.0, Avg reward: 1.03\n",
      "Episode: 77, Score: 0.0, Avg reward: 1.01\n",
      "Episode: 78, Score: -1.0, Avg reward: 0.99\n",
      "Episode: 79, Score: 0.0, Avg reward: 0.97\n",
      "Episode: 80, Score: 0.0, Avg reward: 0.96\n",
      "Episode: 81, Score: 4.0, Avg reward: 1.00\n",
      "Episode: 82, Score: 0.0, Avg reward: 0.99\n",
      "Episode: 83, Score: 4.0, Avg reward: 1.02\n",
      "Episode: 84, Score: 0.0, Avg reward: 1.01\n",
      "Episode: 85, Score: 1.0, Avg reward: 1.01\n",
      "Episode: 86, Score: 0.0, Avg reward: 1.00\n",
      "Episode: 87, Score: 0.0, Avg reward: 0.99\n",
      "Episode: 88, Score: 0.0, Avg reward: 0.98\n",
      "Episode: 89, Score: 1.0, Avg reward: 0.98\n",
      "Episode: 90, Score: 0.0, Avg reward: 0.97\n",
      "Episode: 91, Score: 0.0, Avg reward: 0.96\n",
      "Episode: 92, Score: 1.0, Avg reward: 0.96\n",
      "Episode: 93, Score: 3.0, Avg reward: 0.98\n",
      "Episode: 94, Score: 1.0, Avg reward: 0.98\n",
      "Episode: 95, Score: 1.0, Avg reward: 0.98\n",
      "Episode: 96, Score: 0.0, Avg reward: 0.97\n",
      "Episode: 97, Score: 5.0, Avg reward: 1.01\n",
      "Episode: 98, Score: 2.0, Avg reward: 1.02\n",
      "Episode: 99, Score: 1.0, Avg reward: 1.02\n",
      "Episode: 100, Score: 0.0, Avg reward: 1.03\n",
      "Episode: 101, Score: 2.0, Avg reward: 1.05\n",
      "Episode: 102, Score: 2.0, Avg reward: 1.05\n",
      "Episode: 103, Score: 0.0, Avg reward: 0.95\n",
      "Episode: 104, Score: -1.0, Avg reward: 0.91\n",
      "Episode: 105, Score: 0.0, Avg reward: 0.91\n",
      "Episode: 106, Score: -1.0, Avg reward: 0.85\n",
      "Episode: 107, Score: 1.0, Avg reward: 0.86\n",
      "Episode: 108, Score: 0.0, Avg reward: 0.86\n",
      "Episode: 109, Score: -1.0, Avg reward: 0.83\n",
      "Episode: 110, Score: 2.0, Avg reward: 0.86\n",
      "Episode: 111, Score: 0.0, Avg reward: 0.86\n",
      "Episode: 112, Score: -1.0, Avg reward: 0.85\n",
      "Episode: 113, Score: 0.0, Avg reward: 0.84\n",
      "Episode: 114, Score: 0.0, Avg reward: 0.84\n",
      "Episode: 115, Score: 1.0, Avg reward: 0.81\n",
      "Episode: 116, Score: -1.0, Avg reward: 0.79\n",
      "Episode: 117, Score: 0.0, Avg reward: 0.74\n",
      "Episode: 118, Score: -1.0, Avg reward: 0.74\n",
      "Episode: 119, Score: 0.0, Avg reward: 0.75\n",
      "Episode: 120, Score: 0.0, Avg reward: 0.75\n",
      "Episode: 121, Score: -1.0, Avg reward: 0.74\n",
      "Episode: 122, Score: -1.0, Avg reward: 0.69\n",
      "Episode: 123, Score: -1.0, Avg reward: 0.66\n",
      "Episode: 124, Score: 1.0, Avg reward: 0.68\n",
      "Episode: 125, Score: 1.0, Avg reward: 0.69\n",
      "Episode: 126, Score: 0.0, Avg reward: 0.70\n",
      "Episode: 127, Score: 0.0, Avg reward: 0.66\n",
      "Episode: 128, Score: 0.0, Avg reward: 0.65\n",
      "Episode: 129, Score: 5.0, Avg reward: 0.61\n",
      "Episode: 130, Score: 1.0, Avg reward: 0.61\n",
      "Episode: 131, Score: 0.0, Avg reward: 0.60\n",
      "Episode: 132, Score: 2.0, Avg reward: 0.62\n",
      "Episode: 133, Score: 0.0, Avg reward: 0.61\n",
      "Episode: 134, Score: -1.0, Avg reward: 0.61\n",
      "Episode: 135, Score: 0.0, Avg reward: 0.61\n",
      "Episode: 136, Score: 1.0, Avg reward: 0.63\n",
      "Episode: 137, Score: 0.0, Avg reward: 0.63\n",
      "Episode: 138, Score: 1.0, Avg reward: 0.64\n",
      "Episode: 139, Score: 1.0, Avg reward: 0.66\n",
      "Episode: 140, Score: 0.0, Avg reward: 0.65\n",
      "Episode: 141, Score: 0.0, Avg reward: 0.65\n",
      "Episode: 142, Score: 1.0, Avg reward: 0.66\n",
      "Episode: 143, Score: 2.0, Avg reward: 0.69\n",
      "Episode: 144, Score: -1.0, Avg reward: 0.68\n",
      "Episode: 145, Score: -1.0, Avg reward: 0.68\n",
      "Episode: 146, Score: 0.0, Avg reward: 0.68\n",
      "Episode: 147, Score: 0.0, Avg reward: 0.67\n",
      "Episode: 148, Score: 0.0, Avg reward: 0.67\n",
      "Episode: 149, Score: 0.0, Avg reward: 0.68\n",
      "Episode: 150, Score: 0.0, Avg reward: 0.61\n",
      "Episode: 151, Score: 1.0, Avg reward: 0.61\n",
      "Episode: 152, Score: 0.0, Avg reward: 0.61\n",
      "Episode: 153, Score: 1.0, Avg reward: 0.62\n",
      "Episode: 154, Score: -1.0, Avg reward: 0.61\n",
      "Episode: 155, Score: 0.0, Avg reward: 0.61\n",
      "Episode: 156, Score: -1.0, Avg reward: 0.60\n",
      "Episode: 157, Score: -1.0, Avg reward: 0.58\n",
      "Episode: 158, Score: 2.0, Avg reward: 0.53\n",
      "Episode: 159, Score: 0.0, Avg reward: 0.53\n",
      "Episode: 160, Score: 2.0, Avg reward: 0.56\n",
      "Episode: 161, Score: 1.0, Avg reward: 0.56\n",
      "Episode: 162, Score: 0.0, Avg reward: 0.56\n",
      "Episode: 163, Score: -1.0, Avg reward: 0.55\n",
      "Episode: 164, Score: 2.0, Avg reward: 0.54\n",
      "Episode: 165, Score: 3.0, Avg reward: 0.57\n",
      "Episode: 166, Score: 0.0, Avg reward: 0.54\n",
      "Episode: 167, Score: 2.0, Avg reward: 0.56\n",
      "Episode: 168, Score: 0.0, Avg reward: 0.56\n",
      "Episode: 169, Score: 0.0, Avg reward: 0.56\n",
      "Episode: 170, Score: 1.0, Avg reward: 0.53\n",
      "Episode: 171, Score: 4.0, Avg reward: 0.57\n",
      "Episode: 172, Score: 0.0, Avg reward: 0.54\n",
      "Episode: 173, Score: 0.0, Avg reward: 0.54\n",
      "Episode: 174, Score: 1.0, Avg reward: 0.54\n",
      "Episode: 175, Score: 3.0, Avg reward: 0.55\n",
      "Episode: 176, Score: 3.0, Avg reward: 0.57\n",
      "Episode: 177, Score: 0.0, Avg reward: 0.57\n",
      "Episode: 178, Score: 0.0, Avg reward: 0.58\n",
      "Episode: 179, Score: 0.0, Avg reward: 0.58\n",
      "Episode: 180, Score: 33.0, Avg reward: 0.91\n",
      "Episode: 181, Score: -1.0, Avg reward: 0.86\n",
      "Episode: 182, Score: 0.0, Avg reward: 0.86\n",
      "Episode: 183, Score: -1.0, Avg reward: 0.81\n",
      "Episode: 184, Score: 0.0, Avg reward: 0.81\n",
      "Episode: 185, Score: 0.0, Avg reward: 0.80\n",
      "Episode: 186, Score: 1.0, Avg reward: 0.81\n",
      "Episode: 187, Score: 0.0, Avg reward: 0.81\n",
      "Episode: 188, Score: 2.0, Avg reward: 0.83\n",
      "Episode: 189, Score: 1.0, Avg reward: 0.83\n",
      "Episode: 190, Score: 1.0, Avg reward: 0.84\n",
      "Episode: 191, Score: 0.0, Avg reward: 0.84\n",
      "Episode: 192, Score: -1.0, Avg reward: 0.82\n"
     ]
    },
    {
     "name": "stdout",
     "output_type": "stream",
     "text": [
      "Episode: 193, Score: 1.0, Avg reward: 0.80\n",
      "Episode: 194, Score: 0.0, Avg reward: 0.79\n",
      "Episode: 195, Score: 0.0, Avg reward: 0.78\n",
      "Episode: 196, Score: 0.0, Avg reward: 0.78\n",
      "Episode: 197, Score: -1.0, Avg reward: 0.72\n",
      "Episode: 198, Score: -1.0, Avg reward: 0.69\n",
      "Episode: 199, Score: 3.0, Avg reward: 0.71\n",
      "Episode: 200, Score: 2.0, Avg reward: 0.73\n",
      "Episode: 201, Score: 0.0, Avg reward: 0.71\n",
      "Episode: 202, Score: 0.0, Avg reward: 0.69\n",
      "Episode: 203, Score: 0.0, Avg reward: 0.69\n",
      "Episode: 204, Score: 3.0, Avg reward: 0.73\n",
      "Episode: 205, Score: 0.0, Avg reward: 0.73\n",
      "Episode: 206, Score: 0.0, Avg reward: 0.74\n",
      "Episode: 207, Score: 0.0, Avg reward: 0.73\n",
      "Episode: 208, Score: 1.0, Avg reward: 0.74\n",
      "Episode: 209, Score: 1.0, Avg reward: 0.76\n",
      "Episode: 210, Score: 1.0, Avg reward: 0.75\n",
      "Episode: 211, Score: 2.0, Avg reward: 0.77\n",
      "Episode: 212, Score: 1.0, Avg reward: 0.79\n",
      "Episode: 213, Score: 0.0, Avg reward: 0.79\n",
      "Episode: 214, Score: 0.0, Avg reward: 0.79\n",
      "Episode: 215, Score: -1.0, Avg reward: 0.77\n",
      "Episode: 216, Score: 1.0, Avg reward: 0.79\n",
      "Episode: 217, Score: 0.0, Avg reward: 0.79\n",
      "Episode: 218, Score: 0.0, Avg reward: 0.80\n",
      "Episode: 219, Score: 0.0, Avg reward: 0.80\n",
      "Episode: 220, Score: 1.0, Avg reward: 0.81\n",
      "Episode: 221, Score: 0.0, Avg reward: 0.82\n",
      "Episode: 222, Score: 2.0, Avg reward: 0.85\n",
      "Episode: 223, Score: 2.0, Avg reward: 0.88\n",
      "Episode: 224, Score: 0.0, Avg reward: 0.87\n",
      "Episode: 225, Score: 4.0, Avg reward: 0.90\n",
      "Episode: 226, Score: 8.0, Avg reward: 0.98\n",
      "Episode: 227, Score: 1.0, Avg reward: 0.99\n",
      "Episode: 228, Score: 1.0, Avg reward: 1.00\n",
      "Episode: 229, Score: 0.0, Avg reward: 0.95\n",
      "Episode: 230, Score: 2.0, Avg reward: 0.96\n",
      "Episode: 231, Score: 1.0, Avg reward: 0.97\n",
      "Episode: 232, Score: 5.0, Avg reward: 1.00\n",
      "Episode: 233, Score: -1.0, Avg reward: 0.99\n",
      "Episode: 234, Score: -1.0, Avg reward: 0.99\n",
      "Episode: 235, Score: -1.0, Avg reward: 0.98\n",
      "Episode: 236, Score: -1.0, Avg reward: 0.96\n",
      "Episode: 237, Score: -1.0, Avg reward: 0.95\n",
      "Episode: 238, Score: -1.0, Avg reward: 0.93\n",
      "Episode: 239, Score: 0.0, Avg reward: 0.92\n",
      "Episode: 240, Score: 0.0, Avg reward: 0.92\n",
      "Episode: 241, Score: 1.0, Avg reward: 0.93\n",
      "Episode: 242, Score: 3.0, Avg reward: 0.95\n",
      "Episode: 243, Score: 1.0, Avg reward: 0.94\n",
      "Episode: 244, Score: 3.0, Avg reward: 0.98\n",
      "Episode: 245, Score: 0.0, Avg reward: 0.99\n",
      "Episode: 246, Score: 1.0, Avg reward: 1.00\n",
      "Episode: 247, Score: 1.0, Avg reward: 1.01\n",
      "Episode: 248, Score: 0.0, Avg reward: 1.01\n",
      "Episode: 249, Score: 2.0, Avg reward: 1.03\n",
      "Episode: 250, Score: 1.0, Avg reward: 1.04\n",
      "Episode: 251, Score: 3.0, Avg reward: 1.06\n",
      "Episode: 252, Score: 2.0, Avg reward: 1.08\n",
      "Episode: 253, Score: 17.0, Avg reward: 1.24\n",
      "Episode: 254, Score: 0.0, Avg reward: 1.25\n",
      "Episode: 255, Score: 0.0, Avg reward: 1.25\n",
      "Episode: 256, Score: -1.0, Avg reward: 1.25\n",
      "Episode: 257, Score: 3.0, Avg reward: 1.29\n",
      "Episode: 258, Score: 1.0, Avg reward: 1.28\n",
      "Episode: 259, Score: 2.0, Avg reward: 1.30\n",
      "Episode: 260, Score: 4.0, Avg reward: 1.32\n",
      "Episode: 261, Score: 0.0, Avg reward: 1.31\n",
      "Episode: 262, Score: -1.0, Avg reward: 1.30\n",
      "Episode: 263, Score: 3.0, Avg reward: 1.34\n",
      "Episode: 264, Score: 1.0, Avg reward: 1.33\n",
      "Episode: 265, Score: 1.0, Avg reward: 1.31\n",
      "Episode: 266, Score: 2.0, Avg reward: 1.33\n",
      "Episode: 267, Score: 1.0, Avg reward: 1.32\n",
      "Episode: 268, Score: 2.0, Avg reward: 1.34\n",
      "Episode: 269, Score: 0.0, Avg reward: 1.34\n",
      "Episode: 270, Score: -1.0, Avg reward: 1.32\n",
      "Episode: 271, Score: 0.0, Avg reward: 1.28\n"
     ]
    }
   ],
   "source": [
    "networks = [TFQNetwork, PTQNetwork]\n",
    "agent = DQNAgent(state_size, action_size, network=networks[0], load=False)\n",
    "\n",
    "scores = []\n",
    "scores_buffer = deque(maxlen=100)\n",
    "avg_scores = []\n",
    "num_episodes = 500\n",
    "\n",
    "for ep in range(num_episodes):\n",
    "    state = env.reset(True)\n",
    "    total_reward = 0\n",
    "    done = False\n",
    "    while not done:\n",
    "        action = agent.get_action(state)\n",
    "        next_state, reward, done, info = env.step(action)\n",
    "        agent.train(state, action, next_state, reward, done)\n",
    "        total_reward += reward  \n",
    "        state = next_state \n",
    "\n",
    "    scores.append(total_reward)\n",
    "    scores_buffer.append(total_reward)\n",
    "    avg_scores.append(np.mean(scores_buffer))\n",
    "    print(\"Episode: {}, Score: {}, Avg reward: {:.2f}\".format(ep, scores[-1], avg_scores[-1]))\n",
    "    \n",
    "    with open(\"./saved_models/train_{}.txt\".format(HIDDEN_SIZE), 'a+') as f:\n",
    "        f.writelines(\"Episode: {}, Score: {}, Avg reward: {:.2f}\\n\".format(ep, scores[-1], avg_scores[-1]))\n",
    "    \n",
    "    if ep % 100 == 99: agent.q_network.save_model(\"./saved_models/temp/{0}/model_{0}.tf\".format(ep))\n",
    "        \n",
    "# agent.q_network.save_model()"
   ]
  },
  {
   "cell_type": "code",
   "execution_count": null,
   "metadata": {},
   "outputs": [],
   "source": [
    "import re\n",
    "\n",
    "scores = []\n",
    "scores_buffer = deque(maxlen=100)\n",
    "avg_scores = []\n",
    "\n",
    "with open(\"./saved_models/train_500.txt\", 'r') as f:\n",
    "    for line in f:\n",
    "        line = line.rstrip('\\n')\n",
    "        match = re.match(\"Episode: (.*), Score: (.*),\", line)\n",
    "        if match: \n",
    "            ep = int(match.groups()[0])\n",
    "            total_reward = float(match.groups()[1])\n",
    "            scores.append(total_reward)\n",
    "            scores_buffer.append(total_reward)\n",
    "            avg_scores.append(np.mean(scores_buffer))\n",
    "            print(\"Episode: {}, Score: {}, Avg reward: {:.2f}\".format(ep, scores[-1], avg_scores[-1]))"
   ]
  },
  {
   "cell_type": "markdown",
   "metadata": {},
   "source": [
    "### 4.1 Plotting the training rewards\n",
    "\n",
    "The plot below shows the total reward from each episode (blue) and the average reward over the last 100 episodes (orange). We can see that the agent was able to reach the average reward of 13 after about 600 episodes."
   ]
  },
  {
   "cell_type": "code",
   "execution_count": 20,
   "metadata": {},
   "outputs": [
    {
     "data": {
      "text/plain": [
       "[<matplotlib.lines.Line2D at 0x7f06b1231588>,\n",
       " <matplotlib.lines.Line2D at 0x7f06b12317f0>]"
      ]
     },
     "execution_count": 20,
     "metadata": {},
     "output_type": "execute_result"
    },
    {
     "data": {
      "image/png": "[encoded data removed]",
      "text/plain": [
       "<matplotlib.figure.Figure at 0x7f06b3570128>"
      ]
     },
     "metadata": {
      "needs_background": "light"
     },
     "output_type": "display_data"
    }
   ],
   "source": [
    "import matplotlib.pyplot as plt\n",
    "%matplotlib inline\n",
    "\n",
    "x = range(len(scores))\n",
    "plt.plot(x,scores, x,avg_scores)"
   ]
  },
  {
   "cell_type": "code",
   "execution_count": 18,
   "metadata": {},
   "outputs": [
    {
     "data": {
      "text/plain": [
       "[<matplotlib.lines.Line2D at 0x7efee004ada0>,\n",
       " <matplotlib.lines.Line2D at 0x7efee004af60>]"
      ]
     },
     "execution_count": 18,
     "metadata": {},
     "output_type": "execute_result"
    },
    {
     "data": {
      "image/png": "[encoded data removed]",
      "text/plain": [
       "<matplotlib.figure.Figure at 0x7efee01164e0>"
      ]
     },
     "metadata": {
      "needs_background": "light"
     },
     "output_type": "display_data"
    }
   ],
   "source": [
    "import matplotlib.pyplot as plt\n",
    "%matplotlib inline\n",
    "\n",
    "x = range(len(scores))\n",
    "plt.plot(x,scores, x,avg_scores)"
   ]
  },
  {
   "cell_type": "markdown",
   "metadata": {},
   "source": [
    "## 5. Test the Agent\n",
    "\n",
    "The cell below creates a test agent loading the trained weights for a test run of the environment with the trained model. Change the num_episodes variable to run the simulation and calculate the average reward total over multiple episodes."
   ]
  },
  {
   "cell_type": "code",
   "execution_count": 29,
   "metadata": {},
   "outputs": [
    {
     "name": "stdout",
     "output_type": "stream",
     "text": [
      "Episode: 0, Score: 58.0\n"
     ]
    }
   ],
   "source": [
    "test_agent = DQNAgent(state_size, action_size, load=True)\n",
    "\n",
    "for ep in range(1):\n",
    "    state = env.reset(train_mode=False)\n",
    "    total_reward = 0\n",
    "    done = False\n",
    "    while not done:\n",
    "        action = test_agent.get_action(state, eps=0.0)\n",
    "        next_state, reward, done, info = env.step(action)\n",
    "        total_reward += reward  \n",
    "        state = next_state \n",
    "    print(\"Episode: {}, Score: {}\".format(ep, total_reward))"
   ]
  },
  {
   "cell_type": "markdown",
   "metadata": {},
   "source": [
    "## 6. Close the environment when finished\n",
    "When we are finished using an environment, we can close it with the function below."
   ]
  },
  {
   "cell_type": "code",
   "execution_count": 37,
   "metadata": {},
   "outputs": [],
   "source": [
    "env.close()"
   ]
  },
  {
   "cell_type": "code",
   "execution_count": null,
   "metadata": {},
   "outputs": [],
   "source": []
  }
 ],
 "metadata": {
  "anaconda-cloud": {},
  "kernelspec": {
   "display_name": "Python 3",
   "language": "python",
   "name": "python3"
  },
  "language_info": {
   "codemirror_mode": {
    "name": "ipython",
    "version": 3
   },
   "file_extension": ".py",
   "mimetype": "text/x-python",
   "name": "python",
   "nbconvert_exporter": "python",
   "pygments_lexer": "ipython3",
   "version": "3.6.8"
  }
 },
 "nbformat": 4,
 "nbformat_minor": 1
}
